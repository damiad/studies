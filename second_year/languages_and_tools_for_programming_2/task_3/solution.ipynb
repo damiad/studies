{
 "cells": [
  {
   "cell_type": "code",
   "execution_count": 5,
   "metadata": {},
   "outputs": [
    {
     "name": "stdout",
     "output_type": "stream",
     "text": [
      "313/313 [==============================] - 9s 27ms/step - loss: 0.8720 - accuracy: 0.7053\n",
      "Dokładność dla danych walidacyjnych: 70.53%\n"
     ]
    }
   ],
   "source": [
    "# Importowanie niezbędnych bibliotek\n",
    "import numpy as np\n",
    "import matplotlib.pyplot as plt\n",
    "import tensorflow as tf\n",
    "from tensorflow.keras.datasets import cifar10\n",
    "from tensorflow.keras.models import Sequential\n",
    "from tensorflow.keras.layers import Conv2D, MaxPooling2D, Dense, Flatten, Dropout\n",
    "from tensorflow.keras.callbacks import ModelCheckpoint, EarlyStopping\n",
    "\n",
    "# Wczytanie danych CIFAR-10\n",
    "(X_train, y_train), (X_test, y_test) = cifar10.load_data()\n",
    "\n",
    "# Normalizacja danych\n",
    "X_train = X_train / 255.0\n",
    "X_test = X_test / 255.0\n",
    "\n",
    "# Konfiguracja modelu\n",
    "model = Sequential()\n",
    "model.add(Conv2D(32, (3, 3), activation='relu', input_shape=(32, 32, 3)))\n",
    "model.add(Conv2D(64, (3, 3), activation='relu'))\n",
    "model.add(MaxPooling2D(pool_size=(2, 2)))\n",
    "model.add(Dropout(0.25))\n",
    "model.add(Flatten())\n",
    "model.add(Dense(128, activation='relu'))\n",
    "model.add(Dropout(0.5))\n",
    "model.add(Dense(10, activation='softmax'))\n",
    "\n",
    "# Kompilacja modelu\n",
    "model.compile(optimizer='adam', loss='sparse_categorical_crossentropy', metrics=['accuracy'])\n",
    "\n",
    "# Ustawienia wczesnego zatrzymywania\n",
    "early_stopping = EarlyStopping(patience=10, restore_best_weights=True)\n",
    "\n",
    "# Trenowanie modelu\n",
    "history = model.fit(X_train, y_train, validation_data=(X_test, y_test), epochs=50, callbacks=[early_stopping])\n",
    "\n",
    "# Wykresy dokładności modelu\n",
    "plt.plot(history.history['accuracy'], label='Dokładność (trening)')\n",
    "plt.plot(history.history['val_accuracy'], label='Dokładność (walidacja)')\n",
    "plt.xlabel('Epoki')\n",
    "plt.ylabel('Dokładność')\n",
    "plt.legend()\n",
    "plt.show()\n",
    "\n",
    "# Zapisanie najlepszego modelu\n",
    "model.save('cifar10_model.h5')\n",
    "\n",
    "# Wczytanie zapisanego modelu\n",
    "loaded_model = tf.keras.models.load_model('cifar10_model.h5')\n",
    "\n",
    "# Obliczenie dokładności dla danych walidacyjnych\n",
    "_, accuracy = loaded_model.evaluate(X_test, y_test)\n",
    "print('Dokładność dla danych walidacyjnych: {:.2f}%'.format(accuracy * 100))\n"
   ]
  }
 ],
 "metadata": {
  "kernelspec": {
   "display_name": "Python 3",
   "language": "python",
   "name": "python3"
  },
  "language_info": {
   "codemirror_mode": {
    "name": "ipython",
    "version": 3
   },
   "file_extension": ".py",
   "mimetype": "text/x-python",
   "name": "python",
   "nbconvert_exporter": "python",
   "pygments_lexer": "ipython3",
   "version": "3.9.2"
  },
  "orig_nbformat": 4
 },
 "nbformat": 4,
 "nbformat_minor": 2
}
