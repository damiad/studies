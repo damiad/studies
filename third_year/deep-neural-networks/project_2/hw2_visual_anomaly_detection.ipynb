{
  "cells": [
    {
      "cell_type": "markdown",
      "metadata": {
        "id": "5SrxdfXtipch"
      },
      "source": [
        "# Low-shot visual anomaly detection\n",
        "\n",
        "In this notebook you'll investigate visual anomaly detection in a typical industrial setting - we don't have much data and we can train only only normal (non-anomalous) examples.\n",
        "Read the [PADIM paper](https://arxiv.org/pdf/2011.08785.pdf) carefully.\n",
        "The code here is based on the original implementation from its authors.\n",
        "\n",
        "If you have any questions - please write them on slack in the channel.\n",
        "\n",
        "### Bibliography\n",
        "\n",
        "1. Defard, T., Setkov, A., Loesch, A., & Audigier, R. (2021). [Padim: a patch distribution modeling framework for anomaly detection and localization](https://arxiv.org/pdf/2011.08785.pdf). In International Conference on Pattern Recognition (pp. 475-489). Cham: Springer International Publishing."
      ]
    },
    {
      "cell_type": "markdown",
      "metadata": {
        "id": "ttuXHj9cipcn"
      },
      "source": [
        "## Data\n",
        "\n",
        "In case of any problems - please visit [MVTec AD](https://www.mvtec.com/company/research/datasets/mvtec-ad/downloads) to get the access to the data."
      ]
    },
    {
      "cell_type": "code",
      "execution_count": 1,
      "metadata": {
        "id": "6sVj0B8Mipco"
      },
      "outputs": [],
      "source": [
        "%pip install --quiet gdown  # for those who don't run it on Google Colab\n",
        "!gdown -q '1r7WJeDb-E5zzgQSOx7F7bNWg8kYX3yKE'\n",
        "!gdown -q '1Kb420ygkN1iBni5Iy_-psLGNoY0gQFk9'\n",
        "!gdown -q '12wDP9I3aVIr1qLekWY3GLhQO7c6SRhGn'"
      ]
    },
    {
      "cell_type": "code",
      "execution_count": 2,
      "metadata": {
        "id": "B6NSYJHzipcq"
      },
      "outputs": [],
      "source": [
        "from pathlib import Path\n",
        "import tarfile\n",
        "\n",
        "DATA_PATH = Path('./mvtec_anomaly_detection')\n",
        "DATA_PATH.mkdir(exist_ok=True)\n",
        "\n",
        "for class_name in ['bottle', 'metal_nut', 'transistor']:\n",
        "    if not (DATA_PATH / class_name).exists():\n",
        "        with tarfile.open(class_name + '.tar.xz') as tar:\n",
        "            tar.extractall(path=DATA_PATH)"
      ]
    },
    {
      "cell_type": "markdown",
      "metadata": {
        "id": "UnddG4EHipcq"
      },
      "source": [
        "## PADIM implementation"
      ]
    },
    {
      "cell_type": "code",
      "execution_count": 3,
      "metadata": {
        "id": "B58xf9Y0ipcr"
      },
      "outputs": [],
      "source": [
        "import os\n",
        "import random\n",
        "import time\n",
        "from pathlib import Path\n",
        "from random import sample\n",
        "from typing import cast, Any, Dict, List, Optional, Tuple\n",
        "\n",
        "import pandas as pd\n",
        "import matplotlib.pyplot as plt\n",
        "import numpy as np\n",
        "import torch\n",
        "import torch.backends, torch.backends.mps\n",
        "import torch.nn.functional as F\n",
        "from numpy.typing import NDArray\n",
        "from matplotlib import colors\n",
        "from PIL import Image\n",
        "from sklearn.metrics import roc_auc_score, roc_curve, precision_recall_curve\n",
        "from scipy.spatial.distance import mahalanobis\n",
        "from scipy.ndimage import gaussian_filter\n",
        "from skimage import morphology\n",
        "from skimage.segmentation import mark_boundaries\n",
        "from torch.utils.data import DataLoader, Dataset\n",
        "from torchvision.models import wide_resnet50_2, resnet18, Wide_ResNet50_2_Weights, ResNet18_Weights\n",
        "from torch import nn\n",
        "from torchvision import transforms as T\n",
        "from tqdm import tqdm\n",
        "from torch.utils.data.sampler import SubsetRandomSampler\n",
        "\n",
        "FloatNDArray = NDArray[np.float32]"
      ]
    },
    {
      "cell_type": "code",
      "execution_count": 4,
      "metadata": {
        "id": "h1jLwqn1ipcr"
      },
      "outputs": [],
      "source": [
        "# Leave it as is if you're unsure, this notebook will guess this for you below.\n",
        "DEVICE: Optional[torch.device] = None\n",
        "SEED: int = 42  # do not modify\n",
        "\n",
        "plt.style.use(\"dark_background\")"
      ]
    },
    {
      "cell_type": "code",
      "execution_count": 5,
      "metadata": {
        "id": "44L8Xm7zipcs"
      },
      "outputs": [],
      "source": [
        "def seed_all(seed: int = 0) -> None:\n",
        "    random.seed(seed)\n",
        "    np.random.seed(seed)\n",
        "    torch.manual_seed(seed)\n",
        "    if torch.cuda.is_available():\n",
        "        torch.cuda.manual_seed_all(seed)\n",
        "\n",
        "\n",
        "def get_best_device_for_pytorch() -> torch.device:\n",
        "    if torch.cuda.is_available():\n",
        "        device_str = \"cuda\"     # GPU\n",
        "    elif hasattr(torch.backends, \"mps\") and torch.backends.mps.is_available():\n",
        "        device_str = \"mps\"      # Apple silicon\n",
        "    else:\n",
        "        device_str = \"cpu\"      # CPU\n",
        "    return torch.device(device_str)"
      ]
    },
    {
      "cell_type": "code",
      "execution_count": 6,
      "metadata": {
        "id": "FwkEDo0Mipct",
        "outputId": "2bd7d1c5-2167-4a77-f53f-a7c236b08c33",
        "colab": {
          "base_uri": "https://localhost:8080/"
        }
      },
      "outputs": [
        {
          "output_type": "stream",
          "name": "stdout",
          "text": [
            "Using PyTorch with cpu backend.\n",
            "Seeded everything with 42.\n"
          ]
        }
      ],
      "source": [
        "if not DEVICE:\n",
        "    DEVICE = get_best_device_for_pytorch()\n",
        "print(f\"Using PyTorch with {DEVICE} backend.\")\n",
        "\n",
        "seed_all(SEED)\n",
        "print(f\"Seeded everything with {SEED}.\")"
      ]
    },
    {
      "cell_type": "markdown",
      "metadata": {
        "id": "s0EF8Dz4ipcv"
      },
      "source": [
        "### MVTecDataset"
      ]
    },
    {
      "cell_type": "code",
      "execution_count": 7,
      "metadata": {
        "id": "ltngyDsfipcv"
      },
      "outputs": [],
      "source": [
        "class MVTecDataset(Dataset[Tuple[torch.Tensor, int, torch.Tensor]]):\n",
        "    \"\"\"MVTec dataset of industrial objects with and without anomalies.\n",
        "\n",
        "    Yields (x, y, mask) tuples where:\n",
        "    - x is an RGB image from the class, as float tensor of shape (3, cropsize, cropsize);\n",
        "    - y is an int, 0 for good images, 1 for anomalous images;\n",
        "    - mask is 0 for normal pixels, 1 for anomalous pixels, as float tensor of shape (1, cropsize, cropsize).\n",
        "\n",
        "    Source: https://github.com/xiahaifeng1995/PaDiM-Anomaly-Detection-Localization-master/blob/main/datasets/mvtec.py\n",
        "    \"\"\"\n",
        "\n",
        "    def __init__(self, dataset_path: Path, class_name: str = 'bottle',\n",
        "                 is_train: bool = True, resize: int = 256, cropsize: int = 224, return_only_indices=False):\n",
        "        self.dataset_path = dataset_path\n",
        "        self.class_name = class_name\n",
        "        assert (dataset_path / class_name).is_dir(), f'Dataset class not found: {dataset_path / class_name}'\n",
        "        self.is_train = is_train\n",
        "\n",
        "        self.resize = resize\n",
        "        self.cropsize = cropsize\n",
        "\n",
        "        # load dataset\n",
        "        self.x, self.y, self.mask = self.load_dataset_folder()\n",
        "\n",
        "        # set transforms\n",
        "        self.transform_x = T.Compose([T.Resize(resize, Image.LANCZOS),\n",
        "                                      T.CenterCrop(cropsize),\n",
        "                                      T.ToTensor(),\n",
        "                                      T.Normalize(mean=[0.485, 0.456, 0.406],\n",
        "                                                  std=[0.229, 0.224, 0.225])])\n",
        "        self.transform_mask = T.Compose([T.Resize(resize, Image.NEAREST),\n",
        "                                         T.CenterCrop(cropsize),\n",
        "                                         T.ToTensor()])\n",
        "\n",
        "        self.return_only_indices = return_only_indices\n",
        "\n",
        "    def __getitem__(self, idx: int) -> Tuple[torch.Tensor, int, torch.Tensor]:\n",
        "        if self.return_only_indices:  # Used for checking the answer of T1.1.\n",
        "            return idx\n",
        "\n",
        "        x, y, mask = self.x[idx], self.y[idx], self.mask[idx]\n",
        "\n",
        "        x = Image.open(x).convert('RGB')\n",
        "        x = cast(torch.Tensor, self.transform_x(x))\n",
        "\n",
        "        if y == 0:\n",
        "            mask = torch.zeros([1, self.cropsize, self.cropsize])\n",
        "        else:\n",
        "            assert mask is not None\n",
        "            mask = Image.open(mask)\n",
        "            mask = cast(torch.Tensor, self.transform_mask(mask))\n",
        "\n",
        "        return x, y, mask\n",
        "\n",
        "    def __len__(self) -> int:\n",
        "        return len(self.x)\n",
        "\n",
        "    def load_dataset_folder(self) -> Tuple[List[Path], List[int], List[Optional[Path]]]:\n",
        "        phase = 'train' if self.is_train else 'test'\n",
        "        x: List[Path] = []\n",
        "        y: List[int] = []\n",
        "        mask: List[Optional[Path]] = []\n",
        "\n",
        "        img_dir = self.dataset_path / self.class_name / phase\n",
        "        gt_dir = self.dataset_path / self.class_name / 'ground_truth'\n",
        "\n",
        "        for img_type_dir in sorted(img_dir.iterdir()):\n",
        "            # Load images.\n",
        "            if not img_type_dir.is_dir():\n",
        "                continue\n",
        "            img_fpath_list = sorted(img_type_dir.glob('*.png'))\n",
        "            x.extend(img_fpath_list)\n",
        "\n",
        "            # Load ground-truth labels and masks.\n",
        "            if img_type_dir.name == 'good':\n",
        "                y.extend([0] * len(img_fpath_list))\n",
        "                mask.extend([None] * len(img_fpath_list))\n",
        "            else:\n",
        "                y.extend([1] * len(img_fpath_list))\n",
        "                mask.extend([gt_dir / img_type_dir.name / (f.stem + '_mask.png')\n",
        "                            for f in img_fpath_list])\n",
        "\n",
        "        assert len(x) == len(y) == len(mask), 'Number of x, y, and mask should be the same.'\n",
        "        return x, y, mask"
      ]
    },
    {
      "cell_type": "code",
      "execution_count": 8,
      "metadata": {
        "id": "g8z-blcEipcw"
      },
      "outputs": [],
      "source": [
        "def sample_idx(number_of_features: int, max_number_of_features: int) -> torch.Tensor:\n",
        "    assert number_of_features <= max_number_of_features\n",
        "    return torch.tensor(sample(range(0, max_number_of_features), number_of_features))\n",
        "\n",
        "\n",
        "def denormalization(x: FloatNDArray) -> NDArray[np.uint8]:\n",
        "    \"\"\"Denormalize with ImageNet values.\"\"\"\n",
        "    mean = np.array([0.485, 0.456, 0.406])\n",
        "    std = np.array([0.229, 0.224, 0.225])\n",
        "    return (((x.transpose(1, 2, 0) * std) + mean) * 255.).astype(np.uint8)\n",
        "\n",
        "\n",
        "def embedding_concat(x: torch.Tensor, y: torch.Tensor) -> torch.Tensor:\n",
        "    \"\"\"\n",
        "    Concatenate embeddings (along the channel dimension, upscaling y to match x).\n",
        "\n",
        "    Args:\n",
        "        x: Tensor of shape (B, C1, H1, W1).\n",
        "        y: Tensor of shape (B, C2, H2, W2).\n",
        "\n",
        "    Returns:\n",
        "        Tensor of shape is (B, C1 + C2, H1, W1).\n",
        "    \"\"\"\n",
        "    B, C1, H1, W1 = x.size()\n",
        "    _, C2, H2, W2 = y.size()\n",
        "    s = int(H1 / H2)\n",
        "    x = F.unfold(x, kernel_size=s, dilation=1, stride=s)\n",
        "    x = x.view(B, C1, s * s, H2, W2)\n",
        "    z = torch.zeros(B, C1 + C2, s * s, H2, W2).to(x.device)\n",
        "    for i in range(s * s):\n",
        "        z[:, :, i, :, :] = torch.cat((x[:, :, i, :, :], y), dim=1)\n",
        "    z = z.view(B, -1, H2 * W2)\n",
        "    z = F.fold(z, kernel_size=s, output_size=(H1, W1), stride=s)\n",
        "    return z\n",
        "\n",
        "def concatenate_embeddings_from_all_layers(layer_outputs: Dict[str, torch.Tensor]) -> torch.Tensor:\n",
        "        embedding_vectors = layer_outputs['layer1']\n",
        "        for layer_name in ['layer2', 'layer3']:\n",
        "            embedding_vectors = embedding_concat(embedding_vectors, layer_outputs[layer_name])\n",
        "        return embedding_vectors\n",
        "\n",
        "def plot_fig(test_img, scores, gts, threshold: float, save_dir: Path, class_name: str):\n",
        "    num = len(scores)\n",
        "    vmax = scores.max() * 255.\n",
        "    vmin = scores.min() * 255.\n",
        "    for i in range(num):\n",
        "        img = test_img[i]\n",
        "        img = denormalization(img)\n",
        "        gt = gts[i].transpose(1, 2, 0).squeeze()\n",
        "        heat_map = scores[i] * 255\n",
        "        mask = scores[i]\n",
        "        mask[mask > threshold] = 1\n",
        "        mask[mask <= threshold] = 0\n",
        "        kernel = morphology.disk(4)\n",
        "        mask = morphology.opening(mask, kernel)\n",
        "        mask *= 255\n",
        "        vis_img = mark_boundaries(img, mask, color=(1, 0, 0), mode='thick')\n",
        "        fig_img, ax_img = plt.subplots(1, 5, figsize=(12, 3))\n",
        "        fig_img.subplots_adjust(right=0.9)\n",
        "        norm = colors.Normalize(vmin=vmin, vmax=vmax)\n",
        "        for ax_i in ax_img:\n",
        "            ax_i.axes.xaxis.set_visible(False)\n",
        "            ax_i.axes.yaxis.set_visible(False)\n",
        "        ax_img[0].imshow(img)\n",
        "        ax_img[0].title.set_text('Image')\n",
        "        ax_img[1].imshow(gt, cmap='gray')\n",
        "        ax_img[1].title.set_text('GroundTruth')\n",
        "        ax = ax_img[2].imshow(heat_map, cmap='jet', norm=norm)\n",
        "        ax_img[2].imshow(img, cmap='gray', interpolation='none')\n",
        "        ax_img[2].imshow(heat_map, cmap='jet', alpha=0.5, interpolation='none')\n",
        "        ax_img[2].title.set_text('Predicted heat map')\n",
        "        ax_img[3].imshow(mask, cmap='gray')\n",
        "        ax_img[3].title.set_text('Predicted mask')\n",
        "        ax_img[4].imshow(vis_img)\n",
        "        ax_img[4].title.set_text('Segmentation result')\n",
        "        left = 0.92\n",
        "        bottom = 0.15\n",
        "        width = 0.015\n",
        "        height = 1 - 2 * bottom\n",
        "        rect = [left, bottom, width, height]\n",
        "        cbar_ax = fig_img.add_axes(rect)\n",
        "        cb = plt.colorbar(ax, shrink=0.6, cax=cbar_ax, fraction=0.046)\n",
        "        cb.ax.tick_params(labelsize=8)\n",
        "        font = {\n",
        "            'family': 'serif',\n",
        "            'color': 'black',\n",
        "            'weight': 'normal',\n",
        "            'size': 8,\n",
        "        }\n",
        "        cb.set_label('Anomaly Score', fontdict=font)\n",
        "\n",
        "        fig_img.savefig(save_dir / f'{class_name}_{i}', dpi=100)\n",
        "        plt.close()"
      ]
    },
    {
      "cell_type": "code",
      "execution_count": 9,
      "metadata": {
        "id": "zzZrTyHIipcw"
      },
      "outputs": [],
      "source": [
        "def get_feature_extractor(arch: str) -> nn.Module:\n",
        "    if arch == 'resnet18':\n",
        "        model = resnet18(weights=ResNet18_Weights.IMAGENET1K_V1, progress=True)\n",
        "        # t_d = 448\n",
        "        # d = 40\n",
        "    elif arch == 'wide_resnet50_2':\n",
        "        model = wide_resnet50_2(weights=Wide_ResNet50_2_Weights.IMAGENET1K_V1, progress=True)\n",
        "        # t_d = 1792\n",
        "        # d = 550\n",
        "    else:\n",
        "        raise NotImplementedError\n",
        "    return model"
      ]
    },
    {
      "cell_type": "markdown",
      "metadata": {
        "id": "xMdNBmG_ipcx"
      },
      "source": [
        "### PADIM class"
      ]
    },
    {
      "cell_type": "code",
      "execution_count": 36,
      "metadata": {
        "id": "CXN0bKfyipcx"
      },
      "outputs": [],
      "source": [
        "class PADIM():\n",
        "\n",
        "    def __init__(\n",
        "            self,\n",
        "            backbone: str,\n",
        "            device: torch.device,\n",
        "            save_path: Path,\n",
        "            backbone_features_idx: torch.Tensor,\n",
        "            class_names: List[str] = [\"bottle\"],\n",
        "            plot_metrics: bool = False,\n",
        "    ) -> None:\n",
        "        self.arch = backbone\n",
        "        self.device = device\n",
        "        self.model = get_feature_extractor(backbone)\n",
        "        self.model.to(device)\n",
        "        self.model.eval()\n",
        "\n",
        "        self.feature_subset_indices = backbone_features_idx\n",
        "        self.feature_subset_indices.to(device)\n",
        "\n",
        "        self.outputs: Dict[str, torch.Tensor] = {}\n",
        "\n",
        "        self.class_names = class_names\n",
        "        self.save_path = save_path\n",
        "        self.plot_metrics = plot_metrics\n",
        "\n",
        "        self.setup_hooks()\n",
        "        (self.save_path / f'temp_{self.arch}').mkdir(parents=True, exist_ok=True)\n",
        "\n",
        "        self.mean: FloatNDArray  # shape (C, H * W)\n",
        "        self.cov: FloatNDArray  # shape (C, C, H * W)\n",
        "\n",
        "    def setup_hooks(self):\n",
        "        \"\"\"Setup hooks to store model's intermediate outputs.\"\"\"\n",
        "        self.model.layer1[-1].register_forward_hook(lambda _, __, x: self.outputs.update({'layer1': x}))\n",
        "        self.model.layer2[-1].register_forward_hook(lambda _, __, x: self.outputs.update({'layer2': x}))\n",
        "        self.model.layer3[-1].register_forward_hook(lambda _, __, x: self.outputs.update({'layer3': x}))\n",
        "\n",
        "    def train_and_test(self, train_dataloader: DataLoader, test_dataloader: DataLoader) -> float:\n",
        "        self.train(train_dataloader)\n",
        "        return self.test(test_dataloader)\n",
        "\n",
        "    def train(self, train_dataloader: DataLoader) -> None:\n",
        "        self.train_outputs: Dict[str, List[torch.Tensor]] = {'layer1': [], 'layer2': [], 'layer3': []}\n",
        "        for x, _, _ in tqdm(train_dataloader, desc='Feature extraction (train)'):\n",
        "            # Run model prediction.\n",
        "            with torch.no_grad():\n",
        "                _ = self.model(x.to(DEVICE))\n",
        "            # Get intermediate layer outputs.\n",
        "            assert list(self.outputs.keys())  == ['layer1', 'layer2', 'layer3'], list(self.outputs.keys())\n",
        "            for k, v in self.outputs.items():\n",
        "                self.train_outputs[k].append(v.cpu().detach())\n",
        "            # Reset hook outputs.\n",
        "            self.outputs = {}\n",
        "\n",
        "        embedding_vectors = concatenate_embeddings_from_all_layers(\n",
        "            {k: torch.cat(v, 0) for k, v in self.train_outputs.items()})\n",
        "        embedding_vectors_subset = torch.index_select(embedding_vectors, 1, self.feature_subset_indices.cpu())\n",
        "\n",
        "        self.mean, self.cov = self.estimate_multivariate_gaussian(embedding_vectors_subset)\n",
        "        del(self.train_outputs)\n",
        "\n",
        "    def estimate_multivariate_gaussian(self, embedding_vectors: torch.Tensor\n",
        "                                       ) -> Tuple[FloatNDArray, FloatNDArray]:\n",
        "        \"\"\"Calculates multivariate Gaussian distribution.\n",
        "\n",
        "        Takes embeddings of shape (N, C, H, W).\n",
        "        Returns (mean, covariance) of shape (C, H * W) and (C, C, H * W) respectively.\n",
        "        \"\"\"\n",
        "        B, C, H, W = embedding_vectors.size()\n",
        "        embedding_vectors = embedding_vectors.view(B, C, H * W)\n",
        "        mean = torch.mean(embedding_vectors, dim=0).numpy()\n",
        "        cov = torch.zeros(C, C, H * W).numpy()\n",
        "        I = np.identity(C)\n",
        "        for i in tqdm(range(H * W), desc=\"Covariance estimation\"):\n",
        "            cov[:, :, i] = np.cov(embedding_vectors[:, :, i].numpy(), rowvar=False) + 0.01 * I\n",
        "        return mean, cov\n",
        "\n",
        "    def test(self, test_dataloader: DataLoader) -> float:\n",
        "        self.test_outputs: Dict[str, List[torch.Tensor]] = {'layer1': [], 'layer2': [], 'layer3': []}\n",
        "        test_imgs: List[FloatNDArray] = []\n",
        "        gt_list: List[NDArray[Any]] = []\n",
        "        gt_mask_list: List[FloatNDArray] = []\n",
        "\n",
        "        # Extract test set features.\n",
        "        for x, y, mask in tqdm(test_dataloader, desc='Feature extraction (test)', disable=False):\n",
        "            x_shape = x.shape\n",
        "            test_imgs.extend(x.cpu().detach().numpy())\n",
        "            gt_list.extend(y.cpu().detach().numpy())\n",
        "            gt_mask_list.extend(mask.cpu().detach().numpy())\n",
        "            # Run model prediction.\n",
        "            with torch.no_grad():\n",
        "                _ = self.model(x.to(DEVICE))\n",
        "            # Get intermediate layer outputs.\n",
        "            assert list(self.outputs.keys())  == ['layer1', 'layer2', 'layer3']\n",
        "            for k, v in self.outputs.items():\n",
        "                self.test_outputs[k].append(v.cpu().detach())\n",
        "            # Reset hook outputs.\n",
        "            self.outputs = {}\n",
        "        gt_mask = np.asarray(gt_mask_list)  # shape (len(test_dataset), 1, H, W)\n",
        "\n",
        "        embedding_vectors = concatenate_embeddings_from_all_layers(\n",
        "            {k: torch.cat(v, 0) for k, v in self.test_outputs.items()})\n",
        "        # shape (len(test_dataset), len(feature_subset_indices), H1, W1)\n",
        "        embedding_vectors_subset = torch.index_select(embedding_vectors, 1, self.feature_subset_indices.cpu())\n",
        "\n",
        "        distances = self.calculate_distances(embedding_vectors_subset)\n",
        "        score_map = self.prepare_anomaly_map((x_shape[2], x_shape[3]), distances)\n",
        "\n",
        "        img_fpr, img_tpr, img_auroc = self.calculate_auroc_image_level(score_map, gt_list)\n",
        "        pxl_fpr, pxl_tpr, pxl_auroc = self.calculate_auroc_pixel_level(score_map, gt_mask)\n",
        "\n",
        "        if self.plot_metrics:\n",
        "            print(f'[TEST] Image AUROC: {img_auroc:.3f}')\n",
        "            print(f'[TEST] Pixel AUROC: {pxl_auroc:.3f}')\n",
        "            threshold = self.calculate_optimal_threshold(score_map, gt_mask)\n",
        "            self.plot_test_results_for_class(gt_mask_list, test_imgs, score_map, threshold, img_fpr, img_tpr, img_auroc, pxl_fpr, pxl_tpr, pxl_auroc)\n",
        "\n",
        "        return pxl_auroc\n",
        "\n",
        "    # TODO: Some of your code for Task 1 goes here. You can add more functions if needed, but use the ones below - we will use them for checking your solution.\n",
        "    def test_permutation_importance(self, val_dataloader: DataLoader, features_to_permute: List[int]) -> List[float]:\n",
        "        baseline_score = self.test(val_dataloader)\n",
        "        self.test_outputs = {f'layer{i}': [] for i in range(1, 4)}\n",
        "        test_imgs, gt_list, gt_mask_list = [], [], []\n",
        "\n",
        "        for x, y, mask in tqdm(\n",
        "            val_dataloader,\n",
        "            desc=\"Feature extraction (test permutation importance)\",\n",
        "            disable=False,\n",
        "        ):\n",
        "            x_shape = x.shape\n",
        "            test_imgs.extend(x.cpu().detach().numpy())\n",
        "            gt_list.extend(y.cpu().detach().numpy())\n",
        "            gt_mask_list.extend(mask.cpu().detach().numpy())\n",
        "            with torch.no_grad():\n",
        "                _ = self.model(x.to(DEVICE))\n",
        "            assert list(self.outputs.keys()) == [\"layer1\", \"layer2\", \"layer3\"]\n",
        "            for k, v in self.outputs.items():\n",
        "                self.test_outputs[k].append(v.cpu().detach())\n",
        "            self.outputs = {}\n",
        "\n",
        "        ground_truth_mask = np.asarray(gt_mask_list)\n",
        "        embedding_vectors = concatenate_embeddings_from_all_layers(\n",
        "            {k: torch.cat(v, 0) for k, v in self.test_outputs.items()}\n",
        "        )\n",
        "        embedding_vectors_subset = torch.index_select(\n",
        "            embedding_vectors, 1, self.feature_subset_indices.cpu()\n",
        "        )\n",
        "\n",
        "        auroc_list = []\n",
        "        for j in features_to_permute:\n",
        "            vectors_permuted = self.permute_feature(\n",
        "                embedding_vectors_subset, j\n",
        "            )\n",
        "            score_map = self.prepare_anomaly_map((x_shape[2], x_shape[3]), self.calculate_distances(vectors_permuted))\n",
        "            _, _, auroc = self.calculate_auroc_pixel_level(score_map, ground_truth_mask)\n",
        "            auroc_list.append(baseline_score - auroc)\n",
        "\n",
        "        return auroc_list\n",
        "\n",
        "    def permute_feature(self, embedding_vectors_subset: torch.Tensor, number_of_feature_to_permute: int) -> torch.Tensor:\n",
        "        permuted_subset = embedding_vectors_subset.clone()\n",
        "        N, C, H, W = embedding_vectors_subset.size()\n",
        "\n",
        "        for n in range(N):\n",
        "            current_feature = permuted_subset[n, number_of_feature_to_permute, :, :]\n",
        "            rng = torch.Generator().manual_seed(number_of_feature_to_permute * N + n)\n",
        "            permuted_subset[n, number_of_feature_to_permute, :, :] = current_feature.view(-1)[torch.randperm(H * W, generator=rng)].view(H, W)\n",
        "\n",
        "        return permuted_subset\n",
        "    # TODO: End of your code for Task 1 (here)\n",
        "\n",
        "    def plot_test_results_for_class(self, gt_mask_list, test_imgs,\n",
        "                                    score_map, threshold: float,\n",
        "                                    img_fpr, img_tpr, img_auroc: float,\n",
        "                                    pxl_fpr, pxl_tpr, pxl_auroc: float):\n",
        "        _, ax = plt.subplots(1, 2, figsize=(8, 4))\n",
        "        ax[0].plot(img_fpr, img_tpr, label=f'Image AUROC: {img_auroc:.3f}')\n",
        "        ax[1].plot(pxl_fpr, pxl_tpr, label=f'Pixel AUROC: {pxl_auroc:.3f}')\n",
        "\n",
        "        save_dir = self.save_path / f'pictures_{self.arch}'\n",
        "        save_dir.mkdir(parents=True, exist_ok=True)\n",
        "        plot_fig(test_imgs, score_map, gt_mask_list,\n",
        "                 threshold, save_dir, \"\")\n",
        "\n",
        "    def calculate_auroc_image_level(self, score_map: FloatNDArray, gt_list: List[NDArray[Any]]) -> Tuple[FloatNDArray, FloatNDArray, float]:\n",
        "        \"\"\"Calculate image-level AUROC score.\"\"\"\n",
        "        img_scores = score_map.reshape(score_map.shape[0], -1).max(axis=1)\n",
        "        fpr, tpr, _ = roc_curve(gt_list, img_scores)  # false-positive-rates and true-positive-rates for consecutive thresholds (for plotting).\n",
        "        img_auroc = roc_auc_score(gt_list, img_scores)\n",
        "        return fpr, tpr, float(img_auroc)\n",
        "\n",
        "    def calculate_auroc_pixel_level(self, score_map: FloatNDArray, gt_mask: FloatNDArray) -> Tuple[FloatNDArray, FloatNDArray, float]:\n",
        "        \"\"\"Calculate per-pixel level AUROC.\"\"\"\n",
        "        assert score_map.shape == gt_mask.squeeze().shape, f\"{score_map.shape=}, {gt_mask.shape=}\"\n",
        "        fpr, tpr, _ = roc_curve(gt_mask.flatten(), score_map.flatten())\n",
        "        per_pixel_auroc = roc_auc_score(gt_mask.flatten(), score_map.flatten())\n",
        "        return fpr, tpr, float(per_pixel_auroc)\n",
        "\n",
        "    def calculate_optimal_threshold(self, score_map: FloatNDArray, gt_mask: FloatNDArray) -> float:\n",
        "        \"\"\"Calculate the optimal threshold with regard to F1 score.\"\"\"\n",
        "        assert score_map.shape == gt_mask.squeeze().shape\n",
        "        precision, recall, thresholds = precision_recall_curve(\n",
        "            gt_mask.flatten(), score_map.flatten())\n",
        "        a = 2 * precision * recall\n",
        "        b = precision + recall\n",
        "        f1 = np.divide(a, b, out=np.zeros_like(a), where=(b != 0))\n",
        "        threshold = thresholds[np.argmax(f1)]\n",
        "        return threshold\n",
        "\n",
        "    def calculate_distances(self, embedding_vectors: torch.Tensor) -> FloatNDArray:\n",
        "        \"\"\"Calculate Mahalanobis distance of each embedding vector from self.mean.\n",
        "\n",
        "        For embeddings of shape (N, C, H, W), returns shape (N, H, W).\n",
        "        \"\"\"\n",
        "        B, C, H, W = embedding_vectors.size()\n",
        "        embedding_vectors = embedding_vectors.view(B, C, H * W).numpy()\n",
        "        dist_list: List[List[np.float64]] = []\n",
        "        for i in range(H * W):\n",
        "            mean = self.mean[:, i]\n",
        "            conv_inv = np.linalg.inv(self.cov[:, :, i])\n",
        "            dist = [mahalanobis(sample[:, i], mean, conv_inv)\n",
        "                    for sample in embedding_vectors]\n",
        "            dist_list.append(dist)\n",
        "\n",
        "        return np.array(dist_list).transpose(1, 0).reshape(B, H, W)\n",
        "\n",
        "    def prepare_anomaly_map(self, shape: Tuple[int, int], distances: FloatNDArray) -> FloatNDArray:\n",
        "        \"\"\"Upsample distances to `shape`, apply Gaussian smoothing, and normalize to [0,1].\n",
        "\n",
        "        For distances of shape (N, H, W) and `shape` equal to (H2, W2), returns shape (N, H2, W2).\n",
        "        \"\"\"\n",
        "        dists = torch.Tensor(distances).unsqueeze(1)\n",
        "        shape = (dists.shape[0],) + shape\n",
        "        score_map = cast(FloatNDArray, F.interpolate(\n",
        "            dists, size=shape[2], mode='bilinear', align_corners=False).squeeze().numpy())\n",
        "        for i in range(score_map.shape[0]):\n",
        "            score_map[i] = gaussian_filter(score_map[i], sigma=4)\n",
        "\n",
        "        min_score, max_score = score_map.min(), score_map.max()\n",
        "        return (score_map - min_score) / (max_score - min_score + 1e-10)"
      ]
    },
    {
      "cell_type": "markdown",
      "metadata": {
        "id": "UcjdpJovipcy"
      },
      "source": [
        "### Let's see whether it works.\n",
        "Take a look to the `SAVE_PATH` to inspect the results."
      ]
    },
    {
      "cell_type": "code",
      "execution_count": 37,
      "metadata": {
        "id": "pq1_yjOCipcz",
        "outputId": "8f95ec3b-24b8-4aa0-93c7-e6a782848611",
        "colab": {
          "base_uri": "https://localhost:8080/",
          "height": 479
        }
      },
      "outputs": [
        {
          "output_type": "stream",
          "name": "stdout",
          "text": [
            "========== bottle\n"
          ]
        },
        {
          "output_type": "stream",
          "name": "stderr",
          "text": [
            "Feature extraction (train): 100%|██████████| 105/105 [00:37<00:00,  2.84it/s]\n",
            "Covariance estimation: 100%|██████████| 3136/3136 [00:01<00:00, 1667.97it/s]\n",
            "Feature extraction (test): 100%|██████████| 42/42 [00:12<00:00,  3.35it/s]\n"
          ]
        },
        {
          "output_type": "stream",
          "name": "stdout",
          "text": [
            "[TEST] Image AUROC: 0.998\n",
            "[TEST] Pixel AUROC: 0.981\n"
          ]
        },
        {
          "output_type": "display_data",
          "data": {
            "text/plain": [
              "<Figure size 800x400 with 2 Axes>"
            ],
            "image/png": "[encoded data removed]"
          },
          "metadata": {}
        }
      ],
      "source": [
        "seed_all(SEED)\n",
        "CLASS_NAMES = [\n",
        "            'bottle', #'metal_nut'\n",
        "            # 'cable', 'capsule', 'carpet', 'grid', 'hazelnut', 'leather',\n",
        "            # 'pill', 'screw', 'tile', 'toothbrush', 'transistor', 'wood', 'zipper'\n",
        "        ]\n",
        "BATCH_SIZE = 2\n",
        "RESIZE = 256 * 1\n",
        "CROP_SIZE = 224 * 1\n",
        "BACKBONE = \"resnet18\"\n",
        "NUMBER_OF_BACKBONE_FEATURES = 50\n",
        "MAX_NUMBER_OF_BACKBONE_FEATURES = 448\n",
        "\n",
        "run_timestamp = time.time()\n",
        "for class_name in CLASS_NAMES:\n",
        "    print('=' * 10, class_name)\n",
        "    SAVE_PATH = Path(f\"./results/{run_timestamp}/{class_name}\")\n",
        "\n",
        "    train_dataset = MVTecDataset(DATA_PATH, class_name=class_name, is_train=True, resize=RESIZE, cropsize=CROP_SIZE)\n",
        "    train_dataloader = DataLoader(train_dataset, batch_size=BATCH_SIZE, pin_memory=True)\n",
        "    test_dataset = MVTecDataset(DATA_PATH, class_name=class_name, is_train=False, resize=RESIZE, cropsize=CROP_SIZE)\n",
        "    test_dataloader = DataLoader(test_dataset, batch_size=BATCH_SIZE, pin_memory=True)\n",
        "\n",
        "    padim = PADIM(\n",
        "        backbone=BACKBONE,\n",
        "        device=DEVICE,\n",
        "        backbone_features_idx=sample_idx(NUMBER_OF_BACKBONE_FEATURES, MAX_NUMBER_OF_BACKBONE_FEATURES),\n",
        "        save_path=SAVE_PATH,\n",
        "        plot_metrics=True,\n",
        "    )\n",
        "\n",
        "    padim.train_and_test(\n",
        "        train_dataloader=train_dataloader,\n",
        "        test_dataloader=test_dataloader,\n",
        "    )"
      ]
    },
    {
      "cell_type": "markdown",
      "metadata": {
        "id": "OcKUtko2ipcz"
      },
      "source": [
        "# Task 1. Finding the right features (40%)\n",
        "\n",
        "The authors of the paper argue that it doesn't really matter how we choose a subset of features. Let's make some steps towards exploring whether it's true for three different classes (`bottle`, `transistor`, `metal_nut`).\n",
        "Design an experiment which will rank the ResNet18 features by its importance. To do so, we'll implement our variation of [permutation feature importance](https://scikit-learn.org/stable/modules/permutation_importance.html#outline-of-the-permutation-importance-algorithm) on a subset of features produced by the backbone.\n",
        "\n",
        "## 1.1 Preparing the data\n",
        "- Using the test dataset, create `val_dataloader` (every even sample from the original test dataset) and `test_dataloader` (every odd sample). `SubsetRandomSampler` might be handy here.\n",
        "- Then, create 3-fold cross validation-like process in which you'll train PADIM on the first 100 ResNet features in three equally sized subsets of train dataset in which you discard 1/3 of the data ($\\texttt{padim.train}(\\texttt{train\\_dataloader}_k)$) (see below). Again, `SubsetRandomSampler` might be handy here.\n",
        "\n",
        "In other words, you should have:\n",
        "\n",
        "- for $k=0$, the first 10 images indexes from the train dataset we should train on are `[1, 2, 4, 5, 7, 8, 10, 11, 13, 14]`,\n",
        "- for $k=1$, that's `[0, 2, 3, 5, 6, 8, 9, 11, 12, 14]`,\n",
        "- and for $k=2$, that's `[0, 1, 3, 4, 6, 7, 9, 10, 12, 13]`.\n",
        "\n",
        "For val and train, you should have `[0, 2, 4, ...]` and `[1, 3, 5, ...]` respectively (from the test dataset).\n",
        "\n",
        "Don't worry about the sampling order.\n",
        "Use these names for DataLoaders `val_dataloader`, `test_dataloader`. For k-fold training, store dataloaders in `train_dataloaders: List[DataLoader]`, where each element represent different $k$.\n",
        "For each class, store the results in `dataloaders` dictionary (defined below) - we will use this to check your solution.\n",
        "\n",
        "## 1.2 Calculating the importances\n",
        "- In a given fold, each $j$-th feature shall be ranked based on the pixel-wise AUROC difference between the output of that model ($s_{k} \\leftarrow \\texttt{padim.test}(\\texttt{val\\_dataloader})$) and the output with the model with permuted $j$-th feature ($s_{k, j} \\leftarrow \\texttt{padim.test}(\\texttt{val\\_dataloader, feature\\_to\\_permute=}j)$). See also `test_permutation_importance` method stub above.\n",
        "- Implement `permute_feature` method as follows: given the tensor with embeddings with shape `[B, C, H, W]`, by permutation of the $j$-th feature we mean randomly swapped values for $C=j$. The order of swapping shall be **different** for every image. In other words, for every image $b$ and feature $j$ you need to shuffle the last two dimensions (marked as stars in `[b, j, *, *]`) in an unique manner.\n",
        "- Then, calculate the mean importance $i$ averaged on these folds and plot weights importance for the class ($i_j \\leftarrow s_k -  \\frac{1}{K} \\sum_{k} s_{k, j}$, where $K$ is the number of folds).\n",
        "- Append results in `results` dictionary, where keys are class names and values are the lists of averaged feature importances (from feature 0 to feature 99).\n",
        "\n",
        "## 1.3 Drawing conclusions\n",
        "\n",
        "- Finally, for every class train three models on the full training data and evaluate it on the `test_dataloader`. The first model shall use the first 10 features, the second shall use worst 10 features (in terms of feature importance), and the third shall contain the best 10 features.\n",
        "- Write your conclusions (with the things enlisted below in mind). Simply plotting charts or outputting logs without any comment doesn't qualify as an answer to a question.\n",
        "\n",
        "Note 1: Limit yourself to the first 100 features of ResNet18. If you want, you can go with all of available features instead of 100, but it'll take some time to calculate. Converting parts of the code to PyTorch and running on GPU might change a lot here, but this is not evaluated in this exercise. This experiment can be calculated without GPU in less than one hour anyway.\n",
        "\n",
        "Note 2: If you'd like to be fully covered, one needs to explore if the features are correlated, as this might bias the results of feature importance calculations. However, this is not evaluated in this task for the sake of simplicity (that is, examining the 100 first features without worrying about correlated features are enough to get 100% from this task)."
      ]
    },
    {
      "cell_type": "code",
      "execution_count": 38,
      "metadata": {
        "id": "xRVqrGyiipc0"
      },
      "outputs": [],
      "source": [
        "# do not modify\n",
        "CLASS_NAMES = ['bottle', 'transistor', 'metal_nut']\n",
        "\n",
        "BATCH_SIZE = 1\n",
        "RESIZE = 256 * 2 // 4\n",
        "CROP_SIZE = 224 * 2 // 4\n",
        "BACKBONE = \"resnet18\"\n",
        "NUMBER_OF_BACKBONE_FEATURES = 10\n",
        "MAX_NUMBER_OF_BACKBONE_FEATURES = 100  # 448\n",
        "folds = 3"
      ]
    },
    {
      "cell_type": "code",
      "execution_count": 39,
      "metadata": {
        "id": "NAIpqIMYipc0",
        "colab": {
          "base_uri": "https://localhost:8080/",
          "height": 1000
        },
        "outputId": "65691a29-7488-47f1-bfdb-b0e8ced2fcf8"
      },
      "outputs": [
        {
          "output_type": "stream",
          "name": "stdout",
          "text": [
            "1702855058.2976701\n",
            "Class: bottle\n",
            "  Fold: 0\n"
          ]
        },
        {
          "output_type": "stream",
          "name": "stderr",
          "text": [
            "Feature extraction (train): 100%|██████████| 139/139 [00:12<00:00, 11.51it/s]\n",
            "Covariance estimation: 100%|██████████| 784/784 [00:00<00:00, 1260.19it/s]\n",
            "Feature extraction (test): 100%|██████████| 42/42 [00:04<00:00,  9.30it/s]\n",
            "Feature extraction (test permutation importance): 100%|██████████| 42/42 [00:03<00:00, 10.71it/s]\n"
          ]
        },
        {
          "output_type": "stream",
          "name": "stdout",
          "text": [
            "    Fold Results: [9.743994324344178e-05, 0.00014964345587612873, 3.953134504112536e-06, 0.0003449816640737069, 7.249202694781243e-05, 9.122344653678116e-05, 6.369945969508795e-05, 1.4573996571343173e-05, 0.00023480715706614141, 4.2190908723112784e-05, 0.0009731149342266191, 0.0003855428219005086, 0.0002586796800968146, 0.00032815461546871944, 0.0006622981011894513, 0.00015117315716073332, 7.590077951521075e-05, 0.00017047337530703052, 0.0002547094121489642, 0.00016963841049888462, 0.00015343073295870369, 0.0006381766791414556, 0.0001769436459933734, 0.0002173084423465014, 6.600606941908893e-06, 0.0004797521117558083, 0.0003839667290366222, 0.0001749107281910911, 0.0003465756262247173, 8.739473645576663e-05, 0.00024055903558424982, 0.00011009903289175653, 0.00010093536645235564, 4.68298910503151e-05, 8.257430184484733e-05, 1.1445299298196154e-05, 0.0002470825211246715, 0.00011154274084523852, 0.00015414882410006806, 0.00014971605351332684, 3.1173535787631934e-05, 0.0002992281613493075, 0.00023457396161508104, 0.0005100511478782396, 0.0020696191773612593, 0.00014076984551122015, 0.000329482528434899, 0.00010612896562848621, 0.0002128392224277631, 0.00034469392423341905, 0.0004080016225946892, 0.0015475464310422311, 0.0001239237904067103, 7.283544838983709e-05, 6.84814130429053e-05, 0.00020773072186412259, 0.0002168286724741527, 0.0005287501401881242, 0.00021159527086160126, 0.00014849244634381384, 0.0009400032455552468, 5.3141829985873614e-05, -0.00013002342180845616, 0.00021368186342007878, 7.035905953382364e-05, 1.9921897083441387e-05, 2.4906458211626514e-05, -4.530972228189434e-06, 4.1151747381877137e-05, -3.722238563560095e-06, 3.058194280976719e-05, 0.00016737332575389452, 0.00042682321644297677, -2.2805299299359188e-05, -2.4241272535604117e-06, 2.753729055519442e-05, 3.1546658543546435e-05, 0.00010994826862102218, 0.0002098539895247035, 0.0001227718276226956, 0.00017095699999517913, 0.0001124944622541794, 0.00011699426984364732, 9.762207283751471e-05, 2.1099137759161835e-06, 9.471270705752044e-05, 4.6324349936603206e-05, 0.0007388810576728355, 9.726547310980511e-05, 0.00014078237157211237, 7.26008481468643e-05, -1.647456291065108e-05, 0.00011031762017969331, 0.00013308707220068458, 0.0004584052958101677, 0.0017624860514533491, 1.5385665247613645e-05, 0.0002483134616422615, 5.75770171490723e-05, 3.2190212097031136e-05]\n",
            "  Fold: 1\n"
          ]
        },
        {
          "output_type": "stream",
          "name": "stderr",
          "text": [
            "Feature extraction (train): 100%|██████████| 139/139 [00:12<00:00, 11.44it/s]\n",
            "Covariance estimation: 100%|██████████| 784/784 [00:00<00:00, 1161.62it/s]\n",
            "Feature extraction (test): 100%|██████████| 42/42 [00:03<00:00, 12.42it/s]\n",
            "Feature extraction (test permutation importance): 100%|██████████| 42/42 [00:04<00:00, 10.15it/s]\n"
          ]
        },
        {
          "output_type": "stream",
          "name": "stdout",
          "text": [
            "    Fold Results: [8.792007008355067e-05, 0.0001576987749744759, 5.718807376061304e-06, 0.00027918000023430256, 8.814807282179575e-05, 0.00010217928457105045, 5.403603018468613e-05, 2.993246070004396e-05, 0.00022834674500852672, 3.0452568167619692e-05, 0.0008454873598734055, 0.0003918191727751985, 0.00024740345753482273, 0.0003595695246029207, 0.0005143386144864648, 4.69149311298119e-05, 5.817595183684373e-05, 0.00020953138074323677, 0.00017716535225372385, 0.00011479234219994676, 0.0002592669834423263, 0.000627803921715205, 0.00018916056903754233, 8.747113037577137e-05, -4.4005858014968995e-06, 0.0004816069303787603, 0.00031836704583835623, 0.00014087163438906516, 0.00025410556905144005, 0.00010673389576728216, 0.0002482152265533462, 0.00018651604833504662, 0.00011974371512009825, 3.1171069039973944e-05, 0.00010353837053785527, 1.3935802967786811e-05, 0.00021687845060525124, 0.0001304318734075919, 0.00018925480715907086, 0.00019823804982314433, 0.00012166320434040905, 0.00030873803372888364, 0.00023338340886388162, 0.000511749365654716, 0.0017710567702941364, 0.00013680472010509556, 0.000325999338621874, 0.00010841922792307705, 0.00020823703226865073, 0.00030384648152936844, 0.00036748188104259355, 0.0017844189833608655, 0.00011643074761765367, 0.00013583288843151595, 5.341040445131876e-05, 0.00021433688107863613, 0.00026339942123302745, 0.0004914932535331484, 0.00018574836302343023, 0.00014488051738977456, 0.0008128259822542949, 0.00011217256423053563, -0.00016732835569025864, 0.00011853634667565356, 7.355012789378446e-05, 2.395333201077321e-05, 4.9619983310729886e-05, -9.3482293337388e-06, 2.8602047538850428e-05, 4.393616194179698e-05, 3.7996919307503596e-05, 0.00019593751916887245, 0.00043036279025362073, -3.1316690769093526e-05, 2.7669625294435285e-05, 4.184070581555085e-05, 2.2429107742120518e-05, 7.577482487238403e-05, 0.0001668670153493664, 9.687216483256211e-05, 0.0001623491294264016, 0.00012626433254373884, 0.00013375969156699993, 0.000134203639246544, 6.04299654838325e-06, 8.489801992687489e-05, 2.0018769189740954e-05, 0.0009246196791335611, 8.303068360486036e-05, 0.00020414569300208907, 5.250907995080212e-05, -1.1076533069642736e-06, 9.995656099052545e-05, 7.518553140502722e-05, 0.00051437722117742, 0.002022024168089165, 1.2813967952385319e-05, 0.0002500135859219525, 2.198359639541773e-05, 1.4149088838751508e-05]\n",
            "  Fold: 2\n"
          ]
        },
        {
          "output_type": "stream",
          "name": "stderr",
          "text": [
            "Feature extraction (train): 100%|██████████| 140/140 [00:11<00:00, 11.87it/s]\n",
            "Covariance estimation: 100%|██████████| 784/784 [00:01<00:00, 517.88it/s]\n",
            "Feature extraction (test): 100%|██████████| 42/42 [00:03<00:00, 10.68it/s]\n",
            "Feature extraction (test permutation importance): 100%|██████████| 42/42 [00:03<00:00, 12.37it/s]\n"
          ]
        },
        {
          "output_type": "stream",
          "name": "stdout",
          "text": [
            "    Fold Results: [5.8118271751469074e-05, 0.00016958073041350996, -2.564761971479701e-05, 0.0003385520905424544, 9.891808532154951e-05, 0.00011948881228988444, 4.551891920519709e-05, 0.00012520792069277883, 0.00024121344282738524, 6.707507422561616e-05, 0.0006610094136916267, 0.0004779601157598827, 0.0001779875485071747, 0.00033304143485753573, 0.0004822852358074374, 1.924062319576721e-05, 8.029295328918866e-05, 0.00015646547641342176, 0.00018990062677567052, 0.00011499510885559783, 0.00018406460289666082, 0.0007067169596532974, 0.00015474413810404966, 0.0001851470033972976, 3.1381135596271946e-05, 0.00044885984373166377, 0.00039822142812162564, 0.00015539587791494705, 0.0003761934302687712, 0.00011985505323797163, 0.00015740400281301822, 0.00015837838485277533, 4.887939041383257e-05, 2.2563934314619633e-05, 8.366764801552111e-05, 1.3000897252054186e-05, 0.00026322430723650186, 0.00012564721918018051, 0.00020974235874186378, 0.00013665195735068636, 0.00011259682810016436, 0.00031005389725998384, 0.0002740999048968333, 0.0006174656318610102, 0.0020598093902784256, 0.0001701454316611987, 0.0002969198039974863, 0.00017574876180052415, 0.0002186328600566704, 0.00034030690972486344, 0.00033783094732353636, 0.0012836490110899417, 0.0001357623394491562, 3.383930396720173e-05, 4.221386201893237e-05, 0.00014019628069576276, 0.00020458857036405784, 0.0005532431129630458, 0.0002292964428482295, 0.00013828103929850824, 0.0008827072202283182, 0.00012701740969226863, -0.00011053478595205816, 0.0002345267505739305, 6.344030904178084e-05, 3.199819878870377e-05, 7.460046067516342e-05, -4.097476869135974e-06, 2.784764921703875e-05, 0.0001129333175631982, 4.382152089066338e-05, 0.00018678334343650663, 0.00044609461963214986, 2.6017406089984263e-05, 2.430502332876709e-05, 2.3388823085797778e-05, 2.0482450850400902e-05, 7.158082709494511e-05, 0.00016277238151141127, 0.00014126314486725042, 0.0001881503397194173, 0.00010459193935767146, 0.00018936466522834206, 0.00011073679167875976, -4.634124088650123e-06, 5.933262234599409e-05, 5.529205627145354e-05, 0.0009904363023340856, 7.15641786388499e-05, 0.00022605484379008742, 9.1754023048544e-05, -1.1857622436865315e-05, 0.000155328381010141, 7.60521458396483e-05, 0.0005686509204063661, 0.0019184695755499748, 8.529929705310598e-06, 0.00024260010619655178, 5.00491054189108e-05, 9.117500630262398e-06]\n",
            "Class: transistor\n",
            "  Fold: 0\n"
          ]
        },
        {
          "output_type": "stream",
          "name": "stderr",
          "text": [
            "Feature extraction (train): 100%|██████████| 142/142 [00:15<00:00,  8.88it/s]\n",
            "Covariance estimation: 100%|██████████| 784/784 [00:00<00:00, 1357.93it/s]\n",
            "Feature extraction (test): 100%|██████████| 50/50 [00:05<00:00,  9.41it/s]\n",
            "Feature extraction (test permutation importance): 100%|██████████| 50/50 [00:05<00:00,  9.16it/s]\n"
          ]
        },
        {
          "output_type": "stream",
          "name": "stdout",
          "text": [
            "    Fold Results: [0.00020350843178906786, -0.00029777614078563275, 0.0006181610539610268, 0.0008259983114948429, 0.000675285948476323, 0.0015954122685612655, -0.0001892853843620997, 0.0010322595697045782, 0.0006332909326934866, 0.00027161642423593574, -1.852150065628777e-05, 0.0004216861302804853, 0.0009799218750663103, -0.00030836525899802236, 0.00011669894880509772, 0.00022636986723197547, 0.0005126358120128849, 0.00029599542500387727, 0.0004523018524549653, -0.0007248991780265021, 0.0016413825514850118, -7.415435358278562e-06, 0.0005511230765265681, 0.0003832138509062277, 7.763567425526456e-05, 4.872971333721073e-05, 2.2002857895257282e-05, 4.659425418222322e-05, 0.0014511408460965065, 0.001492117596425942, 0.0009577470939612365, 0.00017057203150383504, 0.00023034131678256742, 0.00010586548286580418, 0.00037512880141251276, -2.8767701249710065e-05, 0.00039244174216590544, 0.00015729356710984335, 0.0001782496665779787, 0.0005275376665084449, 0.0013607598463818797, -0.00034254272721190304, 0.00025071204507324624, -0.0001650123619519143, -0.00020580825210695744, -0.0001628532659151786, 0.0007747053787276655, -0.000458329761904334, 0.0005377464664172068, -1.8254620369861918e-05, -0.00027748526741785035, 0.0001280890735464446, 0.0004491719914434163, 0.00011520893302622663, -0.000334989646510168, -0.00034467706741795706, -0.0004386288671507736, 4.357662447847706e-06, 0.00018227288031428626, -0.0004910671428638436, -3.875179720136401e-05, 5.828846243309075e-05, 0.0005146132360887012, 0.0006571914986959563, 0.00021375127553576365, 0.001968834087806126, 0.00020994072060054325, 0.0004440465618315015, 4.2647823744338766e-05, 0.000346557230698874, 7.092217090975961e-05, -0.00024065386446455358, 0.001473700136078615, -9.57135738299808e-06, 0.0004650415392894273, -9.361708773917658e-05, 7.270219191938636e-05, -1.3306306475816912e-05, 0.0005662078755131658, 0.00027148498796196, 9.303687250283854e-05, -5.621562053696275e-05, 0.00020082532393050911, 0.0006410091058972981, 1.3390871222984657e-05, 0.0017437203979698834, 5.5101864129455023e-05, 0.0035746132864294213, 0.0003405915874655774, 0.0006552089918130388, 0.00048486122546283667, 0.00019204432477826217, -6.84461636746662e-05, 0.00013707062783670695, 5.508834166841522e-05, -0.000180056074304454, 3.575732900866028e-05, 3.372570538765866e-05, -0.0005627107432885081, 0.001044820985305302]\n",
            "  Fold: 1\n"
          ]
        },
        {
          "output_type": "stream",
          "name": "stderr",
          "text": [
            "Feature extraction (train): 100%|██████████| 142/142 [00:16<00:00,  8.49it/s]\n",
            "Covariance estimation: 100%|██████████| 784/784 [00:00<00:00, 1347.10it/s]\n",
            "Feature extraction (test): 100%|██████████| 50/50 [00:05<00:00,  9.42it/s]\n",
            "Feature extraction (test permutation importance): 100%|██████████| 50/50 [00:06<00:00,  7.79it/s]\n"
          ]
        },
        {
          "output_type": "stream",
          "name": "stdout",
          "text": [
            "    Fold Results: [0.00016406184044500302, -0.00021946075991459887, 0.0006551720664987881, 0.00022137779000260446, 0.00045963109949320735, 0.0013976387717538434, -0.0001526372184353919, 0.0006749979251747437, 0.0012449405888860232, 0.00027013208364893665, 0.000175282484649301, 0.0009510468936750893, 0.0005106564279481937, -0.0004323731821198236, 0.0006678510741231122, 0.00025167399741117996, 0.000574132461881612, -0.0001584591900906096, 0.00037908291091159896, -0.0004792240705267699, 0.0013832694857484062, 0.00033698270661726887, 0.0011073120735974884, 0.00026178368623693454, 0.00011539544645233768, -7.729274932274007e-06, -0.00012045506285318641, 0.00030242304787142515, 0.0013496503803567632, 0.0016101191407232873, 0.0006956995624953777, 0.00018594788884951363, 0.0006345948811631308, 0.0001849752662731093, 0.0004211993363084643, -7.138436994576687e-05, 0.00034965893515270796, 0.00017488108183760787, 0.0004815259678480066, 0.0002635766446362764, 0.001235840418697361, -0.00032948035159966843, 0.00027442385243843975, -4.492681552296466e-05, -0.00022393734542332697, -0.0002917904442325536, 0.0011622098648476447, -0.00014650027363057502, 0.0002709052919764125, 0.00045201350736412405, 0.0001518432327624423, 7.9965772014375e-05, 0.0004976372379133324, 0.00012928278726442866, -0.000221513855653351, -0.00044448099191958984, 0.0002032281168022528, 0.00018916325803571463, 0.0007757613739682867, -3.848697197798382e-05, -0.00012523012981350648, -0.00016083141298543305, 0.00037760562043409607, 0.0002926601893292746, 0.00020580643107248608, 0.0014493776166339956, 0.0003708748282308753, 0.0004896961013396428, 7.580867201795183e-05, 0.0004545034758638063, -0.00018831095537800527, -0.0005166113204957782, 0.0001598483322590901, 0.00015657040432111766, 0.0002782817469574687, -4.6067492524744695e-06, -0.00016834533047512443, -8.595284348504133e-05, 0.0005099266392266285, 0.00019253502410139975, 0.00012294231077121984, -3.857295552311957e-05, -0.00010713399795310903, 0.0006416105153425056, 6.547738011327316e-05, 0.0015569662662030526, 0.00043344069595230295, 0.002950599522628291, 0.0003310774061781041, 0.0008639677147488737, 0.0006146097441313744, 0.0002686699830857971, 1.818577941470334e-05, -0.00015672808104405522, 0.00013771441107290894, -0.00014096258813386017, -1.748854259923475e-05, -2.12388863813547e-05, -0.0003624063814956502, 0.0009913694830656627]\n",
            "  Fold: 2\n"
          ]
        },
        {
          "output_type": "stream",
          "name": "stderr",
          "text": [
            "Feature extraction (train): 100%|██████████| 142/142 [00:15<00:00,  8.90it/s]\n",
            "Covariance estimation: 100%|██████████| 784/784 [00:00<00:00, 1270.44it/s]\n",
            "Feature extraction (test): 100%|██████████| 50/50 [00:06<00:00,  7.76it/s]\n",
            "Feature extraction (test permutation importance): 100%|██████████| 50/50 [00:05<00:00,  9.56it/s]\n"
          ]
        },
        {
          "output_type": "stream",
          "name": "stdout",
          "text": [
            "    Fold Results: [0.0001139693789696435, -5.882772267651326e-05, 0.0006738305323531479, 0.0006952666023989362, 0.0007681492376293194, 0.001057817723227883, -0.00012215694758688223, 0.0009583588811091411, 0.0009781292311427843, 0.00020467126836768804, 1.7836616159283558e-05, 0.00021955177507319382, 0.00046497045312295554, -0.00035979306533318045, 0.0004891946805843927, 0.00025341361924554234, 0.000454595624598005, 0.0006529610015014361, 0.0003318198251269407, -5.0102415001288904e-05, 0.0006102671545836769, 0.00010648758920928092, 0.00045872017268840565, 0.00016564514584712273, -2.207993372915773e-06, -7.066212864444606e-05, -0.0003026528858294242, 0.00015099239278304477, 0.001488411930153144, 0.001299777079287671, 0.0005539233083516152, 0.00042128572940347553, 0.000669353573861442, 7.985876246840995e-05, 0.0003272604373984282, 2.9115131231346087e-05, 0.0006376853668742521, 0.00016920428100578958, 0.0006778264963922901, 0.0007647413068421205, 0.0017035044232020697, -0.00018016423936628723, 0.0002927886856197344, 0.00019313535116471936, -0.000706832643461941, -0.0005671214058853291, 0.0011301145192236979, -0.0006442041438547985, 0.0006212362108033812, 0.00012828148887955582, -0.00028795014573368416, -0.00030636620190989855, 0.0002328461022135242, -0.00018483185066375807, -0.00037000382523085423, -0.00022391140482328856, 0.00043743337627862494, -9.523739890289946e-05, 0.00014559204546726878, -0.00041728824417882243, 0.000338540166493521, -8.894607571467243e-05, 0.0006623830194278554, -4.503239164418046e-05, -0.00017298555312102634, 0.0019978272682324625, 0.0003692215409843991, 0.000913163949336567, 6.628538555793669e-05, 0.0005588558545734182, 0.00013099112972288682, -0.0002175575082565088, 0.0006967633318712604, 0.00021667756829194898, -1.0828090596493034e-05, -1.4778280117644371e-05, -0.0003095811103523971, -1.2881413050373306e-05, 0.0005829818046784174, 0.00017946711956506878, 0.00011315996935375623, -2.096491941842397e-05, -4.339053522880073e-05, 0.0007684546960565012, 9.265950149569177e-06, 0.0013323951642033594, 0.00022857293869234704, 0.004145206169161512, 0.0003355952538422284, 0.0007904952910524251, 0.0001692247073085499, 0.0001913278391160548, -0.00034871944224031576, 2.2245969658977554e-05, 8.542802719010052e-05, -0.00019550846629331117, -0.00017797711841301597, -7.280269254679912e-05, -0.0005236440095044056, 0.0010038377991911835]\n",
            "Class: metal_nut\n",
            "  Fold: 0\n"
          ]
        },
        {
          "output_type": "stream",
          "name": "stderr",
          "text": [
            "Feature extraction (train): 100%|██████████| 146/146 [00:10<00:00, 13.80it/s]\n",
            "Covariance estimation: 100%|██████████| 784/784 [00:00<00:00, 1192.91it/s]\n",
            "Feature extraction (test): 100%|██████████| 58/58 [00:04<00:00, 14.19it/s]\n",
            "Feature extraction (test permutation importance): 100%|██████████| 58/58 [00:04<00:00, 12.45it/s]\n"
          ]
        },
        {
          "output_type": "stream",
          "name": "stdout",
          "text": [
            "    Fold Results: [0.0007845789304435172, 0.0006202778898948639, 0.0011949548783614465, 0.0020421977260736135, 0.0017233425487117593, 0.0002573375230593052, 0.0005664340844262113, 0.0005476098944912078, 0.0017051797712273054, 0.00038080202518309125, 0.0005648165543636896, 0.0010110174344591567, 0.0007246962119918191, 0.00022038682562038522, 0.003685079074069416, 0.00030954222509401347, 0.00039123942439515486, 0.0006402697610711957, 0.0005836961361311473, 0.0006032228439942777, 0.0015207312205355317, 0.0004726316421655256, 0.000825382470915977, 0.00020437020584747798, 0.00019737438226093604, 0.0007603244897808429, 0.002270597087949929, 0.0002671562838326332, 0.0006905624330091342, 0.0006721265937780959, 0.0008841604271242106, 0.000318872740747822, 0.000631227701705761, 0.0006329603256046331, 0.00022232117955367503, 0.00019269033653912526, 0.0011201592742431006, 0.0010576152462831168, 0.00041115116090325216, 0.0006526603809104229, 0.0006962022711413848, 0.0001365215325114244, 0.0004473643837474839, 0.000977194600703668, 0.0006531695990292427, 0.00021984736125457705, 0.001012435533412089, 0.000572414093399957, 0.00040404576940529974, 0.0008050512469050716, 0.0008383951738288875, 0.0007927738622502586, 0.0007709774551030909, 0.00020800412568999782, 0.00039391989077704653, 0.00038577589804293194, 0.0005840836137939546, 0.002045261877767731, 0.0007639269501244309, 0.0005052601006343416, 0.0005358753487938092, 0.0011023065189137056, 0.0004927256866699888, 0.0007422297219494833, 0.00016993356664884995, 0.0007223656524859937, 0.00043395009692851855, 0.00013735027117252793, 0.00010071343576867342, 2.227374800811699e-05, 0.0001131756199641935, 0.00035199434487361475, 0.0005026258779148307, 8.747400983033504e-05, 0.0003355409894072829, 0.00027322896274421343, 3.711741076965295e-05, 0.00024405376214172345, 0.0002194048244655115, 1.6215097791631255e-05, 0.000976868636167379, 0.0004485539660633586, 0.0007174084149369856, 0.0016448789536332626, 0.00024603573308856763, 0.00041571116974566574, 0.0002849478087107264, 0.0025652016970492872, 0.0005525768730778591, 0.0019427501574029726, 0.00012769340074055466, 0.00012610505626760768, 0.0005608212755469818, 0.00038720534653043554, 0.00025899505541563766, 0.0021212859858260233, 0.0008142227214834227, 2.4357842252076267e-05, 0.0002000849548029112, 0.00012392919514551495]\n",
            "  Fold: 1\n"
          ]
        },
        {
          "output_type": "stream",
          "name": "stderr",
          "text": [
            "Feature extraction (train): 100%|██████████| 147/147 [00:10<00:00, 13.60it/s]\n",
            "Covariance estimation: 100%|██████████| 784/784 [00:00<00:00, 1279.38it/s]\n",
            "Feature extraction (test): 100%|██████████| 58/58 [00:03<00:00, 14.89it/s]\n",
            "Feature extraction (test permutation importance): 100%|██████████| 58/58 [00:04<00:00, 13.73it/s]\n"
          ]
        },
        {
          "output_type": "stream",
          "name": "stdout",
          "text": [
            "    Fold Results: [0.0007794737862203416, 0.0005894847965049651, 0.001050319136576013, 0.0017124246591866399, 0.0015067567214909945, 0.000231566617475365, 0.0004974020451271599, 0.00044656744229461715, 0.0016644593872962021, 0.0003861667102725101, 0.000544632861794366, 0.00099195519197659, 0.0007469770769110337, 0.0001895472384131717, 0.003507198099031513, 0.0003037409669119547, 0.0003388737901128813, 0.0006176852479475118, 0.000463348615946176, 0.0007513549853857363, 0.0012011028439364857, 0.0005135648805260443, 0.0008422198068775236, 0.0001984471146519636, 0.0002151863022801607, 0.0008184120005435558, 0.0021658429727247817, 0.00021820883818035597, 0.0006109019836074703, 0.0008646584721030784, 0.0008649719614071497, 0.00028696225728760033, 0.0006903625766360166, 0.0006298396964051397, 0.00024641030525240915, 0.00016365154548469985, 0.0009948411432201636, 0.0010446095952409973, 0.00046230770077578437, 0.0005436200515436621, 0.0005470894919400818, 0.00013890253328123028, 0.0003069685799211112, 0.0009823988313416576, 0.0005793729265594442, 0.0002290590982880388, 0.001046600339125403, 0.0005061969813230002, 0.0003097213611244302, 0.000968664766320774, 0.0007005717068645501, 0.0005437676980566039, 0.000761851251083856, 7.813865367634065e-05, 0.0003132396492972293, 0.00013087140800357075, 0.0005120932959220929, 0.002147692848082657, 0.0007798357955976313, 0.0004319510679088682, 0.0005078760245120403, 0.0010752850257020885, 0.000416522482606078, 0.0008613340515915743, 0.0001387467117013319, 0.0005909567363291032, 0.0005505430950203394, 0.00017165820559853864, 8.325072969594949e-05, 0.00018929029665785505, 0.00014377628908738652, 0.00018110324723678387, 0.0006070770128495292, 7.032651913148798e-05, 0.0002508721232350834, 0.00024959723554599894, 4.399108114431597e-05, 0.0002636055955779204, 0.00018321821811839722, 5.361891607976362e-05, 0.0008999222464690279, 0.0003650517730077185, 0.0007907625856394077, 0.001507443709793721, 0.0002382856945314371, 0.00048628685581349657, 0.00029339451406940054, 0.0026706381551978575, 0.000522872619562631, 0.001405406318423193, 0.00015092755151661455, 0.0001546393946568377, 0.0005010306741904206, 0.00031636627721480054, 0.00014291730417933154, 0.0019242404048596118, 0.0008551680773545289, 0.00010612919751592138, 0.0002139247128334724, 8.495171898736942e-05]\n",
            "  Fold: 2\n"
          ]
        },
        {
          "output_type": "stream",
          "name": "stderr",
          "text": [
            "Feature extraction (train): 100%|██████████| 147/147 [00:10<00:00, 13.79it/s]\n",
            "Covariance estimation: 100%|██████████| 784/784 [00:00<00:00, 1158.51it/s]\n",
            "Feature extraction (test): 100%|██████████| 58/58 [00:03<00:00, 14.76it/s]\n",
            "Feature extraction (test permutation importance): 100%|██████████| 58/58 [00:04<00:00, 11.68it/s]\n"
          ]
        },
        {
          "output_type": "stream",
          "name": "stdout",
          "text": [
            "    Fold Results: [0.0006712914261322034, 0.0006018060658599852, 0.001143329135171604, 0.0017259810315717328, 0.001691545232894054, 0.00023884771537800256, 0.0005063182439829136, 0.0005699229193435092, 0.0017579936658461321, 0.0003867872073632557, 0.0007211933433762437, 0.0009564161319857156, 0.0007201344595686813, 0.00024894355538799634, 0.0034993574393064795, 0.0002557631922721626, 0.00038188280756360865, 0.0006859327985119604, 0.0005831238814415126, 0.0005600980597901076, 0.0013737242140147525, 0.0005557163939865865, 0.0008127895406825717, 0.00020107005537876402, 0.00022991355288818718, 0.0008579099242807345, 0.0020741655951019475, 0.00020114998491997196, 0.0006684925513595896, 0.0006500022358635338, 0.0009156426751594596, 0.0002504607932883503, 0.0006546728482592264, 0.000600574817719172, 0.00015984418063904235, 0.00015477067352491028, 0.0010659646038045552, 0.0009384541439526976, 0.0004124112294071984, 0.0006187932697112967, 0.0006370980101859288, 0.00016052372182599287, 0.0003860561417409573, 0.000860754399817143, 0.0005378872157705272, 0.00019570772174685538, 0.0009517989827270146, 0.000537938797741592, 0.00045447532618592135, 0.0008841342433952107, 0.0007836265326371198, 0.0005913571945374008, 0.0006309002412422012, 0.00018167809603423604, 0.0004312397245106088, 0.0003568907021884356, 0.0005530152022589588, 0.001982290795114694, 0.0007272838458350176, 0.0004024870883180265, 0.0005318470470090745, 0.0009461896334921708, 0.0003647881846328138, 0.0008635379475899763, 0.00015039791073960065, 0.0006056364249576637, 0.0004513610834448641, 0.00014696433257092392, 0.00011671310003232478, 1.857329442722655e-05, 0.00018758618793298284, 0.0002674217333611025, 0.00042098664454152485, 9.500336160335927e-05, 0.00024661925225999415, 0.0002467583259593657, 4.362564714436671e-05, 0.00025489357577449895, 0.00016848556165978876, 3.1845520695535555e-05, 0.0007084898596206127, 0.000368629252868143, 0.0005899080538444013, 0.0017395119706931084, 0.00023303124526737515, 0.00040502403074216264, 0.00028953338339917273, 0.0027860418086211127, 0.00046338593407635464, 0.0016800375478072855, 0.00012149791070929321, 0.000138779301901093, 0.0005091568033524693, 0.00035816945477299783, 0.0002892158665988391, 0.0023479303424312667, 0.0008091509904701125, 0.00025137602555913574, 0.00015055826512896017, 8.841392489974027e-05]\n",
            "Class: bottle\n",
            "Processing first_10\n"
          ]
        },
        {
          "output_type": "stream",
          "name": "stderr",
          "text": [
            "Feature extraction (train): 100%|██████████| 209/209 [00:17<00:00, 12.06it/s]\n",
            "Covariance estimation: 100%|██████████| 784/784 [00:00<00:00, 5852.23it/s]\n",
            "Feature extraction (test): 100%|██████████| 83/83 [00:07<00:00, 10.58it/s]\n"
          ]
        },
        {
          "output_type": "stream",
          "name": "stdout",
          "text": [
            "[TEST] Image AUROC: 0.998\n",
            "[TEST] Pixel AUROC: 0.972\n"
          ]
        },
        {
          "output_type": "display_data",
          "data": {
            "text/plain": [
              "<Figure size 800x400 with 2 Axes>"
            ],
            "image/png": "[encoded data removed]"
          },
          "metadata": {}
        },
        {
          "output_type": "stream",
          "name": "stdout",
          "text": [
            "Processing worst_10\n"
          ]
        },
        {
          "output_type": "stream",
          "name": "stderr",
          "text": [
            "Feature extraction (train): 100%|██████████| 209/209 [00:18<00:00, 11.07it/s]\n",
            "Covariance estimation: 100%|██████████| 784/784 [00:00<00:00, 5609.89it/s]\n",
            "Feature extraction (test): 100%|██████████| 83/83 [00:06<00:00, 12.22it/s]\n"
          ]
        },
        {
          "output_type": "stream",
          "name": "stdout",
          "text": [
            "[TEST] Image AUROC: 0.983\n",
            "[TEST] Pixel AUROC: 0.957\n"
          ]
        },
        {
          "output_type": "display_data",
          "data": {
            "text/plain": [
              "<Figure size 800x400 with 2 Axes>"
            ],
            "image/png": "[encoded data removed]"
          },
          "metadata": {}
        },
        {
          "output_type": "stream",
          "name": "stdout",
          "text": [
            "Processing best_10\n"
          ]
        },
        {
          "output_type": "stream",
          "name": "stderr",
          "text": [
            "Feature extraction (train): 100%|██████████| 209/209 [00:17<00:00, 11.77it/s]\n",
            "Covariance estimation: 100%|██████████| 784/784 [00:00<00:00, 5611.92it/s]\n",
            "Feature extraction (test): 100%|██████████| 83/83 [00:07<00:00, 10.40it/s]\n"
          ]
        },
        {
          "output_type": "stream",
          "name": "stdout",
          "text": [
            "[TEST] Image AUROC: 0.996\n",
            "[TEST] Pixel AUROC: 0.975\n"
          ]
        },
        {
          "output_type": "display_data",
          "data": {
            "text/plain": [
              "<Figure size 800x400 with 2 Axes>"
            ],
            "image/png": "[encoded data removed]"
          },
          "metadata": {}
        },
        {
          "output_type": "stream",
          "name": "stdout",
          "text": [
            "Class: transistor\n",
            "Processing first_10\n"
          ]
        },
        {
          "output_type": "stream",
          "name": "stderr",
          "text": [
            "Feature extraction (train): 100%|██████████| 213/213 [00:26<00:00,  8.03it/s]\n",
            "Covariance estimation: 100%|██████████| 784/784 [00:00<00:00, 5250.05it/s]\n",
            "Feature extraction (test): 100%|██████████| 100/100 [00:11<00:00,  8.38it/s]\n"
          ]
        },
        {
          "output_type": "stream",
          "name": "stdout",
          "text": [
            "[TEST] Image AUROC: 0.942\n",
            "[TEST] Pixel AUROC: 0.954\n"
          ]
        },
        {
          "output_type": "display_data",
          "data": {
            "text/plain": [
              "<Figure size 800x400 with 2 Axes>"
            ],
            "image/png": "[encoded data removed]"
          },
          "metadata": {}
        },
        {
          "output_type": "stream",
          "name": "stdout",
          "text": [
            "Processing worst_10\n"
          ]
        },
        {
          "output_type": "stream",
          "name": "stderr",
          "text": [
            "Feature extraction (train): 100%|██████████| 213/213 [00:25<00:00,  8.31it/s]\n",
            "Covariance estimation: 100%|██████████| 784/784 [00:00<00:00, 5521.39it/s]\n",
            "Feature extraction (test): 100%|██████████| 100/100 [00:11<00:00,  8.35it/s]\n"
          ]
        },
        {
          "output_type": "stream",
          "name": "stdout",
          "text": [
            "[TEST] Image AUROC: 0.902\n",
            "[TEST] Pixel AUROC: 0.935\n"
          ]
        },
        {
          "output_type": "display_data",
          "data": {
            "text/plain": [
              "<Figure size 800x400 with 2 Axes>"
            ],
            "image/png": "[encoded data removed]"
          },
          "metadata": {}
        },
        {
          "output_type": "stream",
          "name": "stdout",
          "text": [
            "Processing best_10\n"
          ]
        },
        {
          "output_type": "stream",
          "name": "stderr",
          "text": [
            "Feature extraction (train): 100%|██████████| 213/213 [00:25<00:00,  8.36it/s]\n",
            "Covariance estimation: 100%|██████████| 784/784 [00:00<00:00, 5665.06it/s]\n",
            "Feature extraction (test): 100%|██████████| 100/100 [00:11<00:00,  8.34it/s]\n"
          ]
        },
        {
          "output_type": "stream",
          "name": "stdout",
          "text": [
            "[TEST] Image AUROC: 0.897\n",
            "[TEST] Pixel AUROC: 0.950\n"
          ]
        },
        {
          "output_type": "display_data",
          "data": {
            "text/plain": [
              "<Figure size 800x400 with 2 Axes>"
            ],
            "image/png": "[encoded data removed]"
          },
          "metadata": {}
        },
        {
          "output_type": "stream",
          "name": "stdout",
          "text": [
            "Class: metal_nut\n",
            "Processing first_10\n"
          ]
        },
        {
          "output_type": "stream",
          "name": "stderr",
          "text": [
            "Feature extraction (train): 100%|██████████| 220/220 [00:22<00:00,  9.68it/s]\n",
            "Covariance estimation: 100%|██████████| 784/784 [00:00<00:00, 6707.94it/s]\n",
            "Feature extraction (test): 100%|██████████| 115/115 [00:09<00:00, 12.50it/s]\n"
          ]
        },
        {
          "output_type": "stream",
          "name": "stdout",
          "text": [
            "[TEST] Image AUROC: 0.911\n",
            "[TEST] Pixel AUROC: 0.937\n"
          ]
        },
        {
          "output_type": "display_data",
          "data": {
            "text/plain": [
              "<Figure size 800x400 with 2 Axes>"
            ],
            "image/png": "[encoded data removed]"
          },
          "metadata": {}
        },
        {
          "output_type": "stream",
          "name": "stdout",
          "text": [
            "Processing worst_10\n"
          ]
        },
        {
          "output_type": "stream",
          "name": "stderr",
          "text": [
            "Feature extraction (train): 100%|██████████| 220/220 [00:16<00:00, 13.67it/s]\n",
            "Covariance estimation: 100%|██████████| 784/784 [00:00<00:00, 8079.43it/s]\n",
            "Feature extraction (test): 100%|██████████| 115/115 [00:16<00:00,  7.03it/s]\n"
          ]
        },
        {
          "output_type": "stream",
          "name": "stdout",
          "text": [
            "[TEST] Image AUROC: 0.866\n",
            "[TEST] Pixel AUROC: 0.873\n"
          ]
        },
        {
          "output_type": "display_data",
          "data": {
            "text/plain": [
              "<Figure size 800x400 with 2 Axes>"
            ],
            "image/png": "[encoded data removed]"
          },
          "metadata": {}
        },
        {
          "output_type": "stream",
          "name": "stdout",
          "text": [
            "Processing best_10\n"
          ]
        },
        {
          "output_type": "stream",
          "name": "stderr",
          "text": [
            "Feature extraction (train): 100%|██████████| 220/220 [00:16<00:00, 13.38it/s]\n",
            "Covariance estimation: 100%|██████████| 784/784 [00:00<00:00, 8009.47it/s]\n",
            "Feature extraction (test): 100%|██████████| 115/115 [00:11<00:00, 10.44it/s]\n"
          ]
        },
        {
          "output_type": "stream",
          "name": "stdout",
          "text": [
            "[TEST] Image AUROC: 0.861\n",
            "[TEST] Pixel AUROC: 0.915\n"
          ]
        },
        {
          "output_type": "display_data",
          "data": {
            "text/plain": [
              "<Figure size 800x400 with 2 Axes>"
            ],
            "image/png": "[encoded data removed]"
          },
          "metadata": {}
        }
      ],
      "source": [
        "seed_all(SEED)\n",
        "results = {c: [0] * MAX_NUMBER_OF_BACKBONE_FEATURES for c in CLASS_NAMES}\n",
        "\n",
        "run_timestamp = time.time()\n",
        "print(f\"{run_timestamp}\")\n",
        "\n",
        "idx_all_fatures = torch.Tensor(range(MAX_NUMBER_OF_BACKBONE_FEATURES)).int()\n",
        "idx_first_n_features = torch.Tensor(range(NUMBER_OF_BACKBONE_FEATURES)).int()\n",
        "\n",
        "dataloaders = {c: {\"val_dataloader\": None, \"test_dataloader\": None, \"train_dataloaders\": None} for c in CLASS_NAMES}\n",
        "\n",
        "# TODO: Your code for T1.1, T1.2, and T1.3 goes below. Don't forget to write `test_permutation_importance` and `permute_feature` above in the PADIM code.\n",
        "# T1.1\n",
        "for class_name in CLASS_NAMES:\n",
        "    train_dataset = MVTecDataset(DATA_PATH, class_name=class_name, is_train=True, resize=RESIZE, cropsize=CROP_SIZE)\n",
        "    test_dataset = MVTecDataset(DATA_PATH, class_name=class_name, is_train=False, resize=RESIZE, cropsize=CROP_SIZE)\n",
        "\n",
        "    even_sampler = SubsetRandomSampler(range(0, len(test_dataset), 2))\n",
        "    odd_sampler = SubsetRandomSampler(range(1, len(test_dataset), 2))\n",
        "\n",
        "    dataloaders[class_name][\"val_dataloader\"] = DataLoader(test_dataset, batch_size=BATCH_SIZE, sampler=even_sampler)\n",
        "    dataloaders[class_name][\"test_dataloader\"] = DataLoader(test_dataset, batch_size=BATCH_SIZE, sampler=odd_sampler)\n",
        "\n",
        "    dataloaders[class_name][\"train_dataloaders\"] = [\n",
        "        DataLoader(train_dataset, batch_size=BATCH_SIZE, sampler=SubsetRandomSampler([i for i in range(len(train_dataset)) if i % 3 != k]))\n",
        "        for k in range(folds)\n",
        "    ]\n",
        "\n",
        "# T1.2\n",
        "run_timestamp = time.time()\n",
        "for class_name in CLASS_NAMES:\n",
        "    print(f\"Class: {class_name}\")\n",
        "    for fold_index in range(folds):\n",
        "        print(f\"  Fold: {fold_index}\")\n",
        "        save_path = Path(f\"./results/{run_timestamp}/{class_name}\")\n",
        "        padim = PADIM(BACKBONE, DEVICE, save_path, idx_all_fatures, [class_name])\n",
        "        padim.train(dataloaders[class_name][\"train_dataloaders\"][fold_index])\n",
        "        fold_results = [res / folds for res in padim.test_permutation_importance(dataloaders[class_name][\"val_dataloader\"], list(range(MAX_NUMBER_OF_BACKBONE_FEATURES)))]\n",
        "        print(f\"    Fold Results: {fold_results}\")\n",
        "        results[class_name] = [r + f for r, f in zip(results[class_name], fold_results)]\n",
        "\n",
        "# T1.3\n",
        "for class_name in CLASS_NAMES:\n",
        "    train_dataset = MVTecDataset(\n",
        "        DATA_PATH,\n",
        "        class_name=class_name,\n",
        "        is_train=True,\n",
        "        resize=RESIZE,\n",
        "        cropsize=CROP_SIZE,\n",
        "    )\n",
        "    test_dataset = MVTecDataset(\n",
        "        DATA_PATH,\n",
        "        class_name=class_name,\n",
        "        is_train=False,\n",
        "        resize=RESIZE,\n",
        "        cropsize=CROP_SIZE,\n",
        "    )\n",
        "    train_dataloader = DataLoader(train_dataset, batch_size=BATCH_SIZE, pin_memory=True)\n",
        "    test_dataloader = DataLoader(test_dataset, batch_size=BATCH_SIZE, pin_memory=True)\n",
        "\n",
        "    print(f\"Class: {class_name}\")\n",
        "    worst_features, best_features = pd.Series(results[class_name]).nsmallest(10).index, pd.Series(results[class_name]).nlargest(10).index\n",
        "\n",
        "    for feature_set, feature_label in zip([idx_first_n_features, worst_features, best_features], [\"first_10\", \"worst_10\", \"best_10\"]):\n",
        "        SAVE_PATH = Path(f\"./results/{class_name}/{feature_label}\")\n",
        "        print(f\"Processing {feature_label}\")\n",
        "        padim = PADIM(\n",
        "            backbone=BACKBONE,\n",
        "            device=DEVICE,\n",
        "            backbone_features_idx=torch.Tensor(feature_set).int(),\n",
        "            save_path=SAVE_PATH,\n",
        "            plot_metrics=True,\n",
        "        )\n",
        "        padim.train_and_test(\n",
        "            train_dataloader=train_dataloader,\n",
        "            test_dataloader=test_dataloader,\n",
        "        )\n",
        "        plt.show()"
      ]
    },
    {
      "cell_type": "markdown",
      "source": [
        "# Drawing Conclusions and Additional Insights\n",
        "\n",
        "## Classifiers Evaluation:\n",
        "\n",
        "In the assessment of classifiers trained on various feature subsets for each class, the results yield valuable insights:\n",
        "\n",
        "| **Class**       | **Subset**        | **Metric**      | **Value** |\n",
        "|------------------|-------------------|-----------------|-----------|\n",
        "| **Bottle**       | **First 10**      | Image AUROC     | 0.998     |\n",
        "|                  |                   | Pixel AUROC     | 0.972     |\n",
        "|                  | **Worst 10**      | Image AUROC     | 0.983     |\n",
        "|                  |                   | Pixel AUROC     | 0.957     |\n",
        "|                  | **Best 10**       | Image AUROC     | 0.996     |\n",
        "|                  |                   | Pixel AUROC     | 0.975     |\n",
        "| **Transistor**   | **First 10**      | Image AUROC     | 0.942     |\n",
        "|                  |                   | Pixel AUROC     | 0.954     |\n",
        "|                  | **Worst 10**      | Image AUROC     | 0.902     |\n",
        "|                  |                   | Pixel AUROC     | 0.935     |\n",
        "|                  | **Best 10**       | Image AUROC     | 0.897     |\n",
        "|                  |                   | Pixel AUROC     | 0.950     |\n",
        "| **Metal Nut**    | **First 10**      | Image AUROC     | 0.911     |\n",
        "|                  |                   | Pixel AUROC     | 0.937     |\n",
        "|                  | **Worst 10**      | Image AUROC     | 0.866     |\n",
        "|                  |                   | Pixel AUROC     | 0.873     |\n",
        "|                  | **Best 10**       | Image AUROC     | 0.861     |\n",
        "|                  |                   | Pixel AUROC     | 0.915     |\n",
        "\n",
        "\n",
        "## General Observations:\n",
        "\n",
        "- For most classes, classifiers using the first 10 features demonstrate high AUROC scores, indicating strong predictive power.\n",
        "\n",
        "- Classifiers employing the least important (worst) 10 features exhibit lower AUROC scores, suggesting these features are less informative for the classification task. Although on the image level in Transistor and Metal Nut classes it scored better than best 10 features.\n",
        "\n",
        "- Classifiers utilizing the best 10 features also achieve high AUROC scores, confirming their significance for the classification task.\n",
        "\n",
        "- Results vary between classes, suggesting different feature subsets may be more or less relevant depending on the type of object.\n",
        "\n",
        "## Additional Insights:\n",
        "\n",
        "### Sensitivity to Feature Selection:\n",
        "\n",
        "The experiments unveil a sensitivity of the model's performance to the choice of features across all classes, underscoring the importance of thoughtful feature selection in the PADIM model.\n",
        "\n",
        "### Image AUROC Discrepancies:\n",
        "\n",
        "Notably, there are instances where the first 10 features outperform the best-performing features in terms of Image and/or Pixel AUROC scores. This observation raises intriguing questions about the architecture's initial features and their potential impact on specific aspects of image classification, indicating certain early features in the ResNet architecture capture essential information for certain classes.\n",
        "\n",
        "### Overall Implications:\n",
        "\n",
        "In conclusion, the feature selection process emerges as a critical determinant of the PADIM model's anomaly detection capabilities. While the difference between the best features and the first 10 features is marginal, the substantial performance drop for the 10 worst features underscores the importance of feature quality. This highlights the significance of tailoring feature selection strategies to the unique characteristics of the dataset and the intricacies of the classification task.\n",
        "\n",
        "### Practical Recommendations:\n",
        "\n",
        "These findings underscore the need for a nuanced approach to feature selection, considering not only the overall importance but also the class-specific impact of features. Moreover, the potential influence of early features in deep architectures suggests exploring model interpretability techniques to gain insights into feature relevance. Future iterations of the model may benefit from a more dynamic feature selection strategy that adapts to the intricacies of different classes within the dataset.\n"
      ],
      "metadata": {
        "id": "CzbrNgMto_-8"
      }
    },
    {
      "cell_type": "code",
      "execution_count": 40,
      "metadata": {
        "id": "cx-qSi4Yipc0",
        "colab": {
          "base_uri": "https://localhost:8080/"
        },
        "outputId": "55080ed2-ff30-4e58-83d6-56e8399c8785"
      },
      "outputs": [
        {
          "output_type": "stream",
          "name": "stdout",
          "text": [
            "[44, 95, 51, 87, 60, 10, 21, 14, 43, 57]\n",
            "[62, 91, 73, 67, 2, 84, 24, 96, 35, 74]\n",
            "[87, 65, 85, 29, 40, 28, 5, 20, 46, 99]\n",
            "[98, 19, 47, 44, 13, 45, 55, 71, 59, 54]\n",
            "[14, 87, 26, 95, 57, 3, 8, 89, 4, 83]\n",
            "[79, 76, 69, 73, 99, 68, 97, 90, 91, 41]\n",
            "[0, 2, 4, 6, 8, 10, 12, 14, 16, 18, 20, 22, 24, 26, 28, 30, 32, 34, 36, 38, 40, 42, 44, 46, 48, 50, 52, 54, 56, 58, 60, 62, 64, 66, 68, 70, 72, 74, 76, 78, 80, 82]\n",
            "[1, 3, 5, 7, 9, 11, 13, 15, 17, 19, 21, 23, 25, 27, 29, 31, 33, 35, 37, 39, 41, 43, 45, 47, 49, 51, 53, 55, 57, 59, 61, 63, 65, 67, 69, 71, 73, 75, 77, 79, 81]\n",
            "[1, 2, 4, 5, 7, 8, 10, 11, 13, 14, 16, 17, 19, 20, 22, 23, 25, 26, 28, 29, 31, 32, 34, 35, 37, 38, 40, 41, 43, 44, 46, 47, 49, 50, 52, 53, 55, 56, 58, 59, 61, 62, 64, 65, 67, 68, 70, 71, 73, 74, 76, 77, 79, 80, 82, 83, 85, 86, 88, 89, 91, 92, 94, 95, 97, 98, 100, 101, 103, 104, 106, 107, 109, 110, 112, 113, 115, 116, 118, 119, 121, 122, 124, 125, 127, 128, 130, 131, 133, 134, 136, 137, 139, 140, 142, 143, 145, 146, 148, 149, 151, 152, 154, 155, 157, 158, 160, 161, 163, 164, 166, 167, 169, 170, 172, 173, 175, 176, 178, 179, 181, 182, 184, 185, 187, 188, 190, 191, 193, 194, 196, 197, 199, 200, 202, 203, 205, 206, 208]\n",
            "[0, 2, 3, 5, 6, 8, 9, 11, 12, 14, 15, 17, 18, 20, 21, 23, 24, 26, 27, 29, 30, 32, 33, 35, 36, 38, 39, 41, 42, 44, 45, 47, 48, 50, 51, 53, 54, 56, 57, 59, 60, 62, 63, 65, 66, 68, 69, 71, 72, 74, 75, 77, 78, 80, 81, 83, 84, 86, 87, 89, 90, 92, 93, 95, 96, 98, 99, 101, 102, 104, 105, 107, 108, 110, 111, 113, 114, 116, 117, 119, 120, 122, 123, 125, 126, 128, 129, 131, 132, 134, 135, 137, 138, 140, 141, 143, 144, 146, 147, 149, 150, 152, 153, 155, 156, 158, 159, 161, 162, 164, 165, 167, 168, 170, 171, 173, 174, 176, 177, 179, 180, 182, 183, 185, 186, 188, 189, 191, 192, 194, 195, 197, 198, 200, 201, 203, 204, 206, 207]\n",
            "[0, 1, 3, 4, 6, 7, 9, 10, 12, 13, 15, 16, 18, 19, 21, 22, 24, 25, 27, 28, 30, 31, 33, 34, 36, 37, 39, 40, 42, 43, 45, 46, 48, 49, 51, 52, 54, 55, 57, 58, 60, 61, 63, 64, 66, 67, 69, 70, 72, 73, 75, 76, 78, 79, 81, 82, 84, 85, 87, 88, 90, 91, 93, 94, 96, 97, 99, 100, 102, 103, 105, 106, 108, 109, 111, 112, 114, 115, 117, 118, 120, 121, 123, 124, 126, 127, 129, 130, 132, 133, 135, 136, 138, 139, 141, 142, 144, 145, 147, 148, 150, 151, 153, 154, 156, 157, 159, 160, 162, 163, 165, 166, 168, 169, 171, 172, 174, 175, 177, 178, 180, 181, 183, 184, 186, 187, 189, 190, 192, 193, 195, 196, 198, 199, 201, 202, 204, 205, 207, 208]\n",
            "[0, 2, 4, 6, 8, 10, 12, 14, 16, 18, 20, 22, 24, 26, 28, 30, 32, 34, 36, 38, 40, 42, 44, 46, 48, 50, 52, 54, 56, 58, 60, 62, 64, 66, 68, 70, 72, 74, 76, 78, 80, 82, 84, 86, 88, 90, 92, 94, 96, 98]\n",
            "[1, 3, 5, 7, 9, 11, 13, 15, 17, 19, 21, 23, 25, 27, 29, 31, 33, 35, 37, 39, 41, 43, 45, 47, 49, 51, 53, 55, 57, 59, 61, 63, 65, 67, 69, 71, 73, 75, 77, 79, 81, 83, 85, 87, 89, 91, 93, 95, 97, 99]\n",
            "[1, 2, 4, 5, 7, 8, 10, 11, 13, 14, 16, 17, 19, 20, 22, 23, 25, 26, 28, 29, 31, 32, 34, 35, 37, 38, 40, 41, 43, 44, 46, 47, 49, 50, 52, 53, 55, 56, 58, 59, 61, 62, 64, 65, 67, 68, 70, 71, 73, 74, 76, 77, 79, 80, 82, 83, 85, 86, 88, 89, 91, 92, 94, 95, 97, 98, 100, 101, 103, 104, 106, 107, 109, 110, 112, 113, 115, 116, 118, 119, 121, 122, 124, 125, 127, 128, 130, 131, 133, 134, 136, 137, 139, 140, 142, 143, 145, 146, 148, 149, 151, 152, 154, 155, 157, 158, 160, 161, 163, 164, 166, 167, 169, 170, 172, 173, 175, 176, 178, 179, 181, 182, 184, 185, 187, 188, 190, 191, 193, 194, 196, 197, 199, 200, 202, 203, 205, 206, 208, 209, 211, 212]\n",
            "[0, 2, 3, 5, 6, 8, 9, 11, 12, 14, 15, 17, 18, 20, 21, 23, 24, 26, 27, 29, 30, 32, 33, 35, 36, 38, 39, 41, 42, 44, 45, 47, 48, 50, 51, 53, 54, 56, 57, 59, 60, 62, 63, 65, 66, 68, 69, 71, 72, 74, 75, 77, 78, 80, 81, 83, 84, 86, 87, 89, 90, 92, 93, 95, 96, 98, 99, 101, 102, 104, 105, 107, 108, 110, 111, 113, 114, 116, 117, 119, 120, 122, 123, 125, 126, 128, 129, 131, 132, 134, 135, 137, 138, 140, 141, 143, 144, 146, 147, 149, 150, 152, 153, 155, 156, 158, 159, 161, 162, 164, 165, 167, 168, 170, 171, 173, 174, 176, 177, 179, 180, 182, 183, 185, 186, 188, 189, 191, 192, 194, 195, 197, 198, 200, 201, 203, 204, 206, 207, 209, 210, 212]\n",
            "[0, 1, 3, 4, 6, 7, 9, 10, 12, 13, 15, 16, 18, 19, 21, 22, 24, 25, 27, 28, 30, 31, 33, 34, 36, 37, 39, 40, 42, 43, 45, 46, 48, 49, 51, 52, 54, 55, 57, 58, 60, 61, 63, 64, 66, 67, 69, 70, 72, 73, 75, 76, 78, 79, 81, 82, 84, 85, 87, 88, 90, 91, 93, 94, 96, 97, 99, 100, 102, 103, 105, 106, 108, 109, 111, 112, 114, 115, 117, 118, 120, 121, 123, 124, 126, 127, 129, 130, 132, 133, 135, 136, 138, 139, 141, 142, 144, 145, 147, 148, 150, 151, 153, 154, 156, 157, 159, 160, 162, 163, 165, 166, 168, 169, 171, 172, 174, 175, 177, 178, 180, 181, 183, 184, 186, 187, 189, 190, 192, 193, 195, 196, 198, 199, 201, 202, 204, 205, 207, 208, 210, 211]\n",
            "[0, 2, 4, 6, 8, 10, 12, 14, 16, 18, 20, 22, 24, 26, 28, 30, 32, 34, 36, 38, 40, 42, 44, 46, 48, 50, 52, 54, 56, 58, 60, 62, 64, 66, 68, 70, 72, 74, 76, 78, 80, 82, 84, 86, 88, 90, 92, 94, 96, 98, 100, 102, 104, 106, 108, 110, 112, 114]\n",
            "[1, 3, 5, 7, 9, 11, 13, 15, 17, 19, 21, 23, 25, 27, 29, 31, 33, 35, 37, 39, 41, 43, 45, 47, 49, 51, 53, 55, 57, 59, 61, 63, 65, 67, 69, 71, 73, 75, 77, 79, 81, 83, 85, 87, 89, 91, 93, 95, 97, 99, 101, 103, 105, 107, 109, 111, 113]\n",
            "[1, 2, 4, 5, 7, 8, 10, 11, 13, 14, 16, 17, 19, 20, 22, 23, 25, 26, 28, 29, 31, 32, 34, 35, 37, 38, 40, 41, 43, 44, 46, 47, 49, 50, 52, 53, 55, 56, 58, 59, 61, 62, 64, 65, 67, 68, 70, 71, 73, 74, 76, 77, 79, 80, 82, 83, 85, 86, 88, 89, 91, 92, 94, 95, 97, 98, 100, 101, 103, 104, 106, 107, 109, 110, 112, 113, 115, 116, 118, 119, 121, 122, 124, 125, 127, 128, 130, 131, 133, 134, 136, 137, 139, 140, 142, 143, 145, 146, 148, 149, 151, 152, 154, 155, 157, 158, 160, 161, 163, 164, 166, 167, 169, 170, 172, 173, 175, 176, 178, 179, 181, 182, 184, 185, 187, 188, 190, 191, 193, 194, 196, 197, 199, 200, 202, 203, 205, 206, 208, 209, 211, 212, 214, 215, 217, 218]\n",
            "[0, 2, 3, 5, 6, 8, 9, 11, 12, 14, 15, 17, 18, 20, 21, 23, 24, 26, 27, 29, 30, 32, 33, 35, 36, 38, 39, 41, 42, 44, 45, 47, 48, 50, 51, 53, 54, 56, 57, 59, 60, 62, 63, 65, 66, 68, 69, 71, 72, 74, 75, 77, 78, 80, 81, 83, 84, 86, 87, 89, 90, 92, 93, 95, 96, 98, 99, 101, 102, 104, 105, 107, 108, 110, 111, 113, 114, 116, 117, 119, 120, 122, 123, 125, 126, 128, 129, 131, 132, 134, 135, 137, 138, 140, 141, 143, 144, 146, 147, 149, 150, 152, 153, 155, 156, 158, 159, 161, 162, 164, 165, 167, 168, 170, 171, 173, 174, 176, 177, 179, 180, 182, 183, 185, 186, 188, 189, 191, 192, 194, 195, 197, 198, 200, 201, 203, 204, 206, 207, 209, 210, 212, 213, 215, 216, 218, 219]\n",
            "[0, 1, 3, 4, 6, 7, 9, 10, 12, 13, 15, 16, 18, 19, 21, 22, 24, 25, 27, 28, 30, 31, 33, 34, 36, 37, 39, 40, 42, 43, 45, 46, 48, 49, 51, 52, 54, 55, 57, 58, 60, 61, 63, 64, 66, 67, 69, 70, 72, 73, 75, 76, 78, 79, 81, 82, 84, 85, 87, 88, 90, 91, 93, 94, 96, 97, 99, 100, 102, 103, 105, 106, 108, 109, 111, 112, 114, 115, 117, 118, 120, 121, 123, 124, 126, 127, 129, 130, 132, 133, 135, 136, 138, 139, 141, 142, 144, 145, 147, 148, 150, 151, 153, 154, 156, 157, 159, 160, 162, 163, 165, 166, 168, 169, 171, 172, 174, 175, 177, 178, 180, 181, 183, 184, 186, 187, 189, 190, 192, 193, 195, 196, 198, 199, 201, 202, 204, 205, 207, 208, 210, 211, 213, 214, 216, 217, 219]\n"
          ]
        }
      ],
      "source": [
        "# Run at the end, but do not modify - we will use this to asses your output.\n",
        "for c in CLASS_NAMES:\n",
        "    s = pd.Series(results[c])\n",
        "    print(s.sort_values(ascending=False)[:10].index.tolist())\n",
        "    print(s.sort_values(ascending=True)[:10].index.tolist())\n",
        "\n",
        "def get_sorted_indices(loader):\n",
        "    loader.dataset.return_only_indices = True\n",
        "    indices = sorted([x.item() for x in loader])\n",
        "    loader.dataset.return_only_indices = False\n",
        "    return indices\n",
        "\n",
        "for c in CLASS_NAMES:\n",
        "    print(get_sorted_indices(dataloaders[c][\"val_dataloader\"]))\n",
        "    print(get_sorted_indices(dataloaders[c][\"test_dataloader\"]))\n",
        "    for v in dataloaders[c][\"train_dataloaders\"]:\n",
        "        print(get_sorted_indices(v))"
      ]
    },
    {
      "cell_type": "markdown",
      "metadata": {
        "id": "NBl98xj8ipc0"
      },
      "source": [
        "# Task 2. Improving PADIM with Online Covariance Estimation\n",
        "\n",
        "This implementation of PADIM can be improved in numerous ways. In this exercise, you'll try to indicate its shortcomings and provide some means to mitigate them.\n",
        "\n",
        "#### 2.1. PADIM's training complexity (15%)\n",
        "\n",
        "- Identify the key operations contributing to the algorithm's training space complexity *in this implementation*. Don't focus on the backbone, as it is not the part of the algorithm (however, its output is).\n",
        "- Shortly discuss the implications for scalability. You can support your claims by charts if needed.\n",
        "\n",
        "*Hint: this doesn't need to be super formal analysis - it's about fiding the \"worst\" parts of this implementation. You can support your claims with a chart and brief description (e.g. \"X dominates the complexity, as it's quadratic.\")*"
      ]
    },
    {
      "cell_type": "markdown",
      "metadata": {
        "id": "EUe3fG-sipc0"
      },
      "source": [
        "```Your answer to task 2.1 goes here```\n",
        "# 2.1. PADIM's Training Complexity\n",
        "\n",
        "In this implementation of PADIM, the key operations contributing to the algorithm's training space complexity are identified in the following sections:\n",
        "\n",
        "1. **Feature Extraction (Train):**\n",
        "   - Iterating through the training dataloader and running the model prediction.\n",
        "   - Storing intermediate layer outputs for `layer1`, `layer2`, and `layer3`.\n",
        "\n",
        "2. **Estimating Multivariate Gaussian:**\n",
        "   - Calculating mean and covariance for each feature.\n",
        "\n",
        "The space complexity is dominated by the storage of intermediate layer outputs during training and the covariance estimation. The storage of these outputs is proportional to the number of samples in the training dataset and the size of intermediate layers.\n",
        "\n",
        "## Implications for Scalability:\n",
        "\n",
        "1. **Intermediate Layer Outputs Storage:**\n",
        "   - As the dataset size increases, the space required to store intermediate layer outputs also increases linearly, impacting memory consumption.\n",
        "   - Implication: The algorithm may face challenges when dealing with large datasets that do not fit into memory.\n",
        "\n",
        "2. **Covariance Estimation:**\n",
        "   - The covariance estimation involves nested loops over the height and width of the embedding vectors.\n",
        "   - As the spatial dimensions increase, the complexity becomes quadratic.\n",
        "   - Implication: Scalability may be affected for datasets with large spatial dimensions, leading to longer training times.\n",
        "\n",
        "\n",
        "**Recommendations:**\n",
        "- Consider optimizations for intermediate layer output storage, such as selective storage or downsampling for large datasets.\n",
        "- Explore strategies to optimize covariance estimation, possibly leveraging parallelization or approximations to handle larger spatial dimensions efficiently.\n"
      ]
    },
    {
      "cell_type": "code",
      "execution_count": null,
      "metadata": {
        "id": "MLRgNF3mipc0"
      },
      "outputs": [],
      "source": [
        "# Your code goes here (if needed)"
      ]
    },
    {
      "cell_type": "markdown",
      "metadata": {
        "id": "KJ589mjaipc1"
      },
      "source": [
        "#### 2.2 Online mean and covariance (35%)\n",
        "Implement a PyTorch version of [online covariance matrix estimation](https://en.wikipedia.org/wiki/Algorithms_for_calculating_variance#Online) in the training as an alternative to the current method in PADIM.\n",
        "Calculate the mean in an online fashion as well.\n",
        "Your implementation shall run on the selected `torch.device` (such as GPU).\n",
        "No need to reimplement the testing routine to online in this exercise (although it'd be nice to have for Task 1), albeit small changes might be necessary (such as conversion from `torch.Tensor` to `np.ndarray`).\n",
        "\n",
        "Passing criteria:\n",
        "```python\n",
        "torch.allclose(padim_online.mean, torch.Tensor(padim_offline.mean).to(DEVICE), atol=0.01)\n",
        "torch.allclose(padim_online.cov, torch.Tensor(padim_offline.cov).to(DEVICE), atol=0.01)\n",
        "```\n"
      ]
    },
    {
      "cell_type": "code",
      "execution_count": null,
      "metadata": {
        "id": "ZWM45gcIipc1"
      },
      "outputs": [],
      "source": [
        "class PADIMWithOnlineCovariance(PADIM):\n",
        "\n",
        "    ### TODO: Your code goes here\n",
        "    def __init__(\n",
        "            self,\n",
        "            backbone: str,\n",
        "            device: torch.device,\n",
        "            save_path: Path,\n",
        "            backbone_features_idx: List[int],\n",
        "            class_names=...,\n",
        "            plot_metrics=False,\n",
        "            ) -> None:\n",
        "        super().__init__(backbone, device, save_path, backbone_features_idx, class_names, plot_metrics)\n",
        "\n",
        "    def train(self, train_dataloader: DataLoader, C: int, H: int, W: int):\n",
        "        \"\"\"C, H, W come from the size of embeddings: [B, C, H, W]\"\"\"\n",
        "        self.mean_prefix, self.mean_prefix_prev, self.mean = torch.zeros((3, C, H * W), device=DEVICE)\n",
        "        self.cov = torch.zeros(C, C, H*W).to(DEVICE)\n",
        "        self.train_outputs = {f'layer{i}': [] for i in range(1, 4)}\n",
        "        N = len(train_dataloader)\n",
        "        k = 0\n",
        "        for x, _, _ in tqdm(train_dataloader, desc='Feature extraction (train)'):\n",
        "            with torch.no_grad():\n",
        "                _ = self.model(x.to(DEVICE))\n",
        "            assert list(self.outputs.keys())  == ['layer1', 'layer2', 'layer3'], list(self.outputs.keys())\n",
        "            outs = torch.index_select(concatenate_embeddings_from_all_layers(self.outputs), 1, self.feature_subset_indices).view(C, H*W)\n",
        "            self.mean += outs / N\n",
        "            k += 1\n",
        "            self.mean_prefix_prev = self.mean_prefix\n",
        "            self.mean_prefix = ((k - 1) * self.mean_prefix + outs) / k\n",
        "            for i in range(H*W):\n",
        "                update = torch.ger((outs[:, i] - self.mean_prefix_prev[:, i]), (outs[:, i] - self.mean_prefix[:, i]))\n",
        "                self.cov[:, :, i] += update\n",
        "            self.outputs = {}\n",
        "        self.cov /= N\n",
        "        for i in range(H*W):\n",
        "            self.cov[:, :, i] += 0.01 * torch.eye(C).to(DEVICE)\n",
        "    ### END OF YOUR CODE\n"
      ]
    },
    {
      "cell_type": "code",
      "execution_count": null,
      "metadata": {
        "id": "M0QQEtbEipc1",
        "colab": {
          "base_uri": "https://localhost:8080/"
        },
        "outputId": "b6399a06-00a8-49d5-d6a1-7f0659f89a54"
      },
      "outputs": [
        {
          "output_type": "stream",
          "name": "stderr",
          "text": [
            "Feature extraction (train): 100%|██████████| 209/209 [00:19<00:00, 11.00it/s]\n",
            "Covariance estimation: 100%|██████████| 3136/3136 [00:00<00:00, 5758.04it/s]\n",
            "Feature extraction (train): 100%|██████████| 209/209 [00:47<00:00,  4.44it/s]\n"
          ]
        },
        {
          "output_type": "execute_result",
          "data": {
            "text/plain": [
              "True"
            ]
          },
          "metadata": {},
          "execution_count": 17
        }
      ],
      "source": [
        "# do not modify\n",
        "seed_all(SEED)\n",
        "class_name = 'bottle'\n",
        "BATCH_SIZE = 1\n",
        "RESIZE = 256 * 1\n",
        "CROP_SIZE = 224 * 1\n",
        "BACKBONE = \"resnet18\"\n",
        "NUMBER_OF_BACKBONE_FEATURES = 30\n",
        "MAX_NUMBER_OF_BACKBONE_FEATURES = 448\n",
        "# DEVICE=\"cpu\"\n",
        "\n",
        "indices = sample_idx(NUMBER_OF_BACKBONE_FEATURES, MAX_NUMBER_OF_BACKBONE_FEATURES).to(DEVICE)\n",
        "\n",
        "run_timestamp = time.time()\n",
        "SAVE_PATH = Path(f\"./results/{run_timestamp}/{class_name}\")\n",
        "\n",
        "train_dataset = MVTecDataset(DATA_PATH, class_name=class_name, is_train=True, resize=RESIZE, cropsize=CROP_SIZE)\n",
        "train_dataloader = DataLoader(train_dataset, batch_size=BATCH_SIZE, pin_memory=True)\n",
        "test_dataset = MVTecDataset(DATA_PATH, class_name=class_name, is_train=False, resize=RESIZE, cropsize=CROP_SIZE)\n",
        "val_dataloader = DataLoader(test_dataset, batch_size=BATCH_SIZE, pin_memory=True)\n",
        "\n",
        "\n",
        "padim_offline = PADIM(\n",
        "    backbone=BACKBONE,\n",
        "    device=DEVICE,\n",
        "    backbone_features_idx=indices,\n",
        "    save_path=SAVE_PATH,\n",
        "    plot_metrics=True,\n",
        ")\n",
        "padim_offline.train(train_dataloader)\n",
        "\n",
        "padim_online = PADIMWithOnlineCovariance(\n",
        "    backbone=BACKBONE,\n",
        "    device=DEVICE,\n",
        "    backbone_features_idx=indices,\n",
        "    save_path=SAVE_PATH,\n",
        "    plot_metrics=True,\n",
        ")\n",
        "padim_online.train(train_dataloader, NUMBER_OF_BACKBONE_FEATURES, int(CROP_SIZE/4), int(CROP_SIZE/4))\n",
        "\n",
        "torch.allclose(padim_online.mean, torch.Tensor(padim_offline.mean).to(DEVICE), atol=0.01) and torch.allclose(padim_online.cov, torch.Tensor(padim_offline.cov).to(DEVICE), atol=0.01)"
      ]
    },
    {
      "cell_type": "markdown",
      "metadata": {
        "id": "h-lkCcwkipc1"
      },
      "source": [
        "#### 2.3 Performance experiments (10%)\n",
        "If you completed task 2.2, design experiments to empirically compare space and memory performance of PADIM training with both traditional and online covariance matrix estimation. Write short conclusions."
      ]
    },
    {
      "cell_type": "code",
      "execution_count": null,
      "metadata": {
        "id": "0PBc8tv-ipc1",
        "colab": {
          "base_uri": "https://localhost:8080/"
        },
        "outputId": "70eb4af3-b566-4fb5-a30a-f13513c25b1b"
      },
      "outputs": [
        {
          "output_type": "stream",
          "name": "stdout",
          "text": [
            "Requirement already satisfied: memory_profiler in /usr/local/lib/python3.10/dist-packages (0.61.0)\n",
            "Requirement already satisfied: psutil in /usr/local/lib/python3.10/dist-packages (from memory_profiler) (5.9.5)\n",
            "The memory_profiler extension is already loaded. To reload it, use:\n",
            "  %reload_ext memory_profiler\n",
            "\n",
            "========== Dataset Size: 20.0% ==========\n",
            "\n",
            "\n",
            "========== MEMORY USAGE ==========\n",
            "\n",
            "===== Offline Training (20.0%) =====\n"
          ]
        },
        {
          "output_type": "stream",
          "name": "stderr",
          "text": [
            "Feature extraction (train): 100%|██████████| 42/42 [00:03<00:00, 10.71it/s]\n",
            "Covariance estimation: 100%|██████████| 3136/3136 [00:00<00:00, 8765.41it/s]\n"
          ]
        },
        {
          "output_type": "stream",
          "name": "stdout",
          "text": [
            "peak memory: 2603.95 MiB, increment: 568.22 MiB\n",
            "===== Online Training (20.0%) =====\n"
          ]
        },
        {
          "output_type": "stream",
          "name": "stderr",
          "text": [
            "Feature extraction (train): 100%|██████████| 42/42 [00:10<00:00,  4.06it/s]\n"
          ]
        },
        {
          "output_type": "stream",
          "name": "stdout",
          "text": [
            "peak memory: 2035.72 MiB, increment: 0.00 MiB\n",
            "\n",
            "========== TIME COMPLEXITY ==========\n",
            "\n",
            "===== Offline Training (20.0%) =====\n"
          ]
        },
        {
          "output_type": "stream",
          "name": "stderr",
          "text": [
            "Feature extraction (train): 100%|██████████| 42/42 [00:04<00:00,  9.74it/s]\n",
            "Covariance estimation: 100%|██████████| 3136/3136 [00:00<00:00, 9098.61it/s]\n"
          ]
        },
        {
          "output_type": "stream",
          "name": "stdout",
          "text": [
            "===== Offline Training (20.0%) =====\n"
          ]
        },
        {
          "output_type": "stream",
          "name": "stderr",
          "text": [
            "Feature extraction (train): 100%|██████████| 42/42 [00:03<00:00, 10.89it/s]\n",
            "Covariance estimation: 100%|██████████| 3136/3136 [00:00<00:00, 8399.80it/s]\n"
          ]
        },
        {
          "output_type": "stream",
          "name": "stdout",
          "text": [
            "5.1 s ± 0 ns per loop (mean ± std. dev. of 1 run, 2 loops each)\n",
            "===== Online Training (20.0%) =====\n"
          ]
        },
        {
          "output_type": "stream",
          "name": "stderr",
          "text": [
            "Feature extraction (train): 100%|██████████| 42/42 [00:10<00:00,  4.19it/s]\n"
          ]
        },
        {
          "output_type": "stream",
          "name": "stdout",
          "text": [
            "===== Online Training (20.0%) =====\n"
          ]
        },
        {
          "output_type": "stream",
          "name": "stderr",
          "text": [
            "Feature extraction (train): 100%|██████████| 42/42 [00:10<00:00,  4.14it/s]\n"
          ]
        },
        {
          "output_type": "stream",
          "name": "stdout",
          "text": [
            "10.2 s ± 0 ns per loop (mean ± std. dev. of 1 run, 2 loops each)\n",
            "\n",
            "========== Dataset Size: 40.0% ==========\n",
            "\n",
            "\n",
            "========== MEMORY USAGE ==========\n",
            "\n",
            "===== Offline Training (40.0%) =====\n"
          ]
        },
        {
          "output_type": "stream",
          "name": "stderr",
          "text": [
            "Feature extraction (train): 100%|██████████| 105/105 [00:10<00:00, 10.30it/s]\n",
            "Covariance estimation: 100%|██████████| 3136/3136 [00:00<00:00, 7253.65it/s]\n"
          ]
        },
        {
          "output_type": "stream",
          "name": "stdout",
          "text": [
            "peak memory: 3723.75 MiB, increment: 1688.03 MiB\n",
            "===== Online Training (40.0%) =====\n"
          ]
        },
        {
          "output_type": "stream",
          "name": "stderr",
          "text": [
            "Feature extraction (train): 100%|██████████| 105/105 [00:25<00:00,  4.18it/s]\n"
          ]
        },
        {
          "output_type": "stream",
          "name": "stdout",
          "text": [
            "peak memory: 2035.72 MiB, increment: 0.00 MiB\n",
            "\n",
            "========== TIME COMPLEXITY ==========\n",
            "\n",
            "===== Offline Training (40.0%) =====\n"
          ]
        },
        {
          "output_type": "stream",
          "name": "stderr",
          "text": [
            "Feature extraction (train): 100%|██████████| 105/105 [00:10<00:00, 10.49it/s]\n",
            "Covariance estimation: 100%|██████████| 3136/3136 [00:00<00:00, 7399.23it/s]\n"
          ]
        },
        {
          "output_type": "stream",
          "name": "stdout",
          "text": [
            "===== Offline Training (40.0%) =====\n"
          ]
        },
        {
          "output_type": "stream",
          "name": "stderr",
          "text": [
            "Feature extraction (train): 100%|██████████| 105/105 [00:10<00:00,  9.63it/s]\n",
            "Covariance estimation: 100%|██████████| 3136/3136 [00:00<00:00, 7373.90it/s]\n"
          ]
        },
        {
          "output_type": "stream",
          "name": "stdout",
          "text": [
            "12.7 s ± 0 ns per loop (mean ± std. dev. of 1 run, 2 loops each)\n",
            "===== Online Training (40.0%) =====\n"
          ]
        },
        {
          "output_type": "stream",
          "name": "stderr",
          "text": [
            "Feature extraction (train): 100%|██████████| 105/105 [00:25<00:00,  4.14it/s]\n"
          ]
        },
        {
          "output_type": "stream",
          "name": "stdout",
          "text": [
            "===== Online Training (40.0%) =====\n"
          ]
        },
        {
          "output_type": "stream",
          "name": "stderr",
          "text": [
            "Feature extraction (train): 100%|██████████| 105/105 [00:25<00:00,  4.07it/s]\n"
          ]
        },
        {
          "output_type": "stream",
          "name": "stdout",
          "text": [
            "25.7 s ± 0 ns per loop (mean ± std. dev. of 1 run, 2 loops each)\n",
            "\n",
            "========== Dataset Size: 60.0% ==========\n",
            "\n",
            "\n",
            "========== MEMORY USAGE ==========\n",
            "\n",
            "===== Offline Training (60.0%) =====\n"
          ]
        },
        {
          "output_type": "stream",
          "name": "stderr",
          "text": [
            "Feature extraction (train): 100%|██████████| 209/209 [00:21<00:00,  9.52it/s]\n",
            "Covariance estimation: 100%|██████████| 3136/3136 [00:00<00:00, 5307.74it/s]\n"
          ]
        },
        {
          "output_type": "stream",
          "name": "stdout",
          "text": [
            "peak memory: 5438.00 MiB, increment: 3402.28 MiB\n",
            "===== Online Training (60.0%) =====\n"
          ]
        },
        {
          "output_type": "stream",
          "name": "stderr",
          "text": [
            "Feature extraction (train): 100%|██████████| 209/209 [00:56<00:00,  3.68it/s]\n"
          ]
        },
        {
          "output_type": "stream",
          "name": "stdout",
          "text": [
            "peak memory: 2035.72 MiB, increment: 0.00 MiB\n",
            "\n",
            "========== TIME COMPLEXITY ==========\n",
            "\n",
            "===== Offline Training (60.0%) =====\n"
          ]
        },
        {
          "output_type": "stream",
          "name": "stderr",
          "text": [
            "Feature extraction (train): 100%|██████████| 209/209 [00:20<00:00, 10.38it/s]\n",
            "Covariance estimation: 100%|██████████| 3136/3136 [00:00<00:00, 4853.56it/s]\n"
          ]
        },
        {
          "output_type": "stream",
          "name": "stdout",
          "text": [
            "===== Offline Training (60.0%) =====\n"
          ]
        },
        {
          "output_type": "stream",
          "name": "stderr",
          "text": [
            "Feature extraction (train): 100%|██████████| 209/209 [00:20<00:00, 10.34it/s]\n",
            "Covariance estimation: 100%|██████████| 3136/3136 [00:00<00:00, 4820.42it/s]\n"
          ]
        },
        {
          "output_type": "stream",
          "name": "stdout",
          "text": [
            "25.7 s ± 0 ns per loop (mean ± std. dev. of 1 run, 2 loops each)\n",
            "===== Online Training (60.0%) =====\n"
          ]
        },
        {
          "output_type": "stream",
          "name": "stderr",
          "text": [
            "Feature extraction (train): 100%|██████████| 209/209 [00:52<00:00,  3.96it/s]\n"
          ]
        },
        {
          "output_type": "stream",
          "name": "stdout",
          "text": [
            "===== Online Training (60.0%) =====\n"
          ]
        },
        {
          "output_type": "stream",
          "name": "stderr",
          "text": [
            "Feature extraction (train): 100%|██████████| 209/209 [00:49<00:00,  4.19it/s]\n"
          ]
        },
        {
          "output_type": "stream",
          "name": "stdout",
          "text": [
            "51.4 s ± 0 ns per loop (mean ± std. dev. of 1 run, 2 loops each)\n",
            "\n",
            "========== Dataset Size: 80.0% ==========\n",
            "\n",
            "\n",
            "========== MEMORY USAGE ==========\n",
            "\n",
            "===== Offline Training (80.0%) =====\n"
          ]
        },
        {
          "output_type": "stream",
          "name": "stderr",
          "text": [
            "Feature extraction (train): 100%|██████████| 209/209 [00:21<00:00,  9.90it/s]\n",
            "Covariance estimation: 100%|██████████| 3136/3136 [00:00<00:00, 5365.98it/s]\n"
          ]
        },
        {
          "output_type": "stream",
          "name": "stdout",
          "text": [
            "peak memory: 5426.14 MiB, increment: 3390.42 MiB\n",
            "===== Online Training (80.0%) =====\n"
          ]
        },
        {
          "output_type": "stream",
          "name": "stderr",
          "text": [
            "Feature extraction (train): 100%|██████████| 209/209 [00:52<00:00,  3.99it/s]\n"
          ]
        },
        {
          "output_type": "stream",
          "name": "stdout",
          "text": [
            "peak memory: 2035.72 MiB, increment: 0.00 MiB\n",
            "\n",
            "========== TIME COMPLEXITY ==========\n",
            "\n",
            "===== Offline Training (80.0%) =====\n"
          ]
        },
        {
          "output_type": "stream",
          "name": "stderr",
          "text": [
            "Feature extraction (train): 100%|██████████| 209/209 [00:21<00:00,  9.87it/s]\n",
            "Covariance estimation: 100%|██████████| 3136/3136 [00:00<00:00, 5245.96it/s]\n"
          ]
        },
        {
          "output_type": "stream",
          "name": "stdout",
          "text": [
            "===== Offline Training (80.0%) =====\n"
          ]
        },
        {
          "output_type": "stream",
          "name": "stderr",
          "text": [
            "Feature extraction (train): 100%|██████████| 209/209 [00:20<00:00, 10.11it/s]\n",
            "Covariance estimation: 100%|██████████| 3136/3136 [00:00<00:00, 5063.20it/s]\n"
          ]
        },
        {
          "output_type": "stream",
          "name": "stdout",
          "text": [
            "25.3 s ± 0 ns per loop (mean ± std. dev. of 1 run, 2 loops each)\n",
            "===== Online Training (80.0%) =====\n"
          ]
        },
        {
          "output_type": "stream",
          "name": "stderr",
          "text": [
            "Feature extraction (train): 100%|██████████| 209/209 [00:49<00:00,  4.20it/s]\n"
          ]
        },
        {
          "output_type": "stream",
          "name": "stdout",
          "text": [
            "===== Online Training (80.0%) =====\n"
          ]
        },
        {
          "output_type": "stream",
          "name": "stderr",
          "text": [
            "Feature extraction (train): 100%|██████████| 209/209 [00:49<00:00,  4.20it/s]\n"
          ]
        },
        {
          "output_type": "stream",
          "name": "stdout",
          "text": [
            "49.9 s ± 0 ns per loop (mean ± std. dev. of 1 run, 2 loops each)\n",
            "\n",
            "========== Dataset Size: 100.0% ==========\n",
            "\n",
            "\n",
            "========== MEMORY USAGE ==========\n",
            "\n",
            "===== Offline Training (100.0%) =====\n"
          ]
        },
        {
          "output_type": "stream",
          "name": "stderr",
          "text": [
            "Feature extraction (train): 100%|██████████| 209/209 [00:20<00:00, 10.12it/s]\n",
            "Covariance estimation: 100%|██████████| 3136/3136 [00:00<00:00, 4974.37it/s]\n"
          ]
        },
        {
          "output_type": "stream",
          "name": "stdout",
          "text": [
            "peak memory: 5473.32 MiB, increment: 3437.60 MiB\n",
            "===== Online Training (100.0%) =====\n"
          ]
        },
        {
          "output_type": "stream",
          "name": "stderr",
          "text": [
            "Feature extraction (train): 100%|██████████| 209/209 [00:50<00:00,  4.15it/s]\n"
          ]
        },
        {
          "output_type": "stream",
          "name": "stdout",
          "text": [
            "peak memory: 2035.72 MiB, increment: 0.00 MiB\n",
            "\n",
            "========== TIME COMPLEXITY ==========\n",
            "\n",
            "===== Offline Training (100.0%) =====\n"
          ]
        },
        {
          "output_type": "stream",
          "name": "stderr",
          "text": [
            "Feature extraction (train): 100%|██████████| 209/209 [00:21<00:00,  9.68it/s]\n",
            "Covariance estimation: 100%|██████████| 3136/3136 [00:00<00:00, 4927.52it/s]\n"
          ]
        },
        {
          "output_type": "stream",
          "name": "stdout",
          "text": [
            "===== Offline Training (100.0%) =====\n"
          ]
        },
        {
          "output_type": "stream",
          "name": "stderr",
          "text": [
            "Feature extraction (train): 100%|██████████| 209/209 [00:20<00:00, 10.17it/s]\n",
            "Covariance estimation: 100%|██████████| 3136/3136 [00:00<00:00, 4310.10it/s]\n"
          ]
        },
        {
          "output_type": "stream",
          "name": "stdout",
          "text": [
            "25.7 s ± 0 ns per loop (mean ± std. dev. of 1 run, 2 loops each)\n",
            "===== Online Training (100.0%) =====\n"
          ]
        },
        {
          "output_type": "stream",
          "name": "stderr",
          "text": [
            "Feature extraction (train): 100%|██████████| 209/209 [00:50<00:00,  4.17it/s]\n"
          ]
        },
        {
          "output_type": "stream",
          "name": "stdout",
          "text": [
            "===== Online Training (100.0%) =====\n"
          ]
        },
        {
          "output_type": "stream",
          "name": "stderr",
          "text": [
            "Feature extraction (train): 100%|██████████| 209/209 [00:56<00:00,  3.73it/s]"
          ]
        },
        {
          "output_type": "stream",
          "name": "stdout",
          "text": [
            "53.2 s ± 0 ns per loop (mean ± std. dev. of 1 run, 2 loops each)\n"
          ]
        },
        {
          "output_type": "stream",
          "name": "stderr",
          "text": [
            "\n"
          ]
        }
      ],
      "source": [
        "%pip install memory_profiler\n",
        "from memory_profiler import profile\n",
        "%load_ext memory_profiler\n",
        "\n",
        "class_name = 'bottle'\n",
        "run_timestamp = time.time()\n",
        "SAVE_PATH = Path(f\"./results/{run_timestamp}/{class_name}\")\n",
        "\n",
        "def create_dataloaders(subset_percent):\n",
        "    train_sampler = SubsetRandomSampler(range(0, len(train_dataset), int(1/subset_percent)))\n",
        "    train_dataloader = DataLoader(train_dataset, batch_size=BATCH_SIZE, sampler=train_sampler)\n",
        "    return train_dataloader\n",
        "\n",
        "padim_offline = PADIM(\n",
        "    backbone=BACKBONE,\n",
        "    device=DEVICE,\n",
        "    backbone_features_idx=indices,\n",
        "    save_path=SAVE_PATH,\n",
        "    plot_metrics=True,\n",
        ")\n",
        "\n",
        "padim_online = PADIMWithOnlineCovariance(\n",
        "    backbone=BACKBONE,\n",
        "    device=DEVICE,\n",
        "    backbone_features_idx=indices,\n",
        "    save_path=SAVE_PATH,\n",
        "    plot_metrics=True,\n",
        ")\n",
        "\n",
        "def offline_training(train_dataloader):\n",
        "    print(f'===== Offline Training ({subset_percent*100}%) =====')\n",
        "    padim_offline.train(train_dataloader)\n",
        "\n",
        "def online_training(train_dataloader):\n",
        "    print(f'===== Online Training ({subset_percent*100}%) =====')\n",
        "    padim_online.train(train_dataloader, NUMBER_OF_BACKBONE_FEATURES, int(CROP_SIZE/4), int(CROP_SIZE/4))\n",
        "\n",
        "for subset_percent in [0.2, 0.4, 0.6, 0.8, 1.0]:\n",
        "    train_dataloader = create_dataloaders(subset_percent)\n",
        "    print('\\n' + '=' * 10 + f' Dataset Size: {subset_percent*100}% ' + '=' * 10 + '\\n')\n",
        "    print('\\n' + '=' * 10 + ' MEMORY USAGE ' + '=' * 10 + '\\n')\n",
        "    %memit offline_training(train_dataloader)\n",
        "    %memit online_training(train_dataloader)\n",
        "    print('\\n' + '=' * 10 + ' TIME COMPLEXITY ' + '=' * 10 + '\\n')\n",
        "    %timeit -r 1 -n 2 offline_training(train_dataloader)\n",
        "    %timeit -r 1 -n 2 online_training(train_dataloader)\n"
      ]
    },
    {
      "cell_type": "markdown",
      "metadata": {
        "id": "HqSD1Wzmipc1"
      },
      "source": [
        "```Your conclusions go here```\n",
        "## 2.3 (and bonus) Performance Experiments\n",
        "### Memory and Time Performance\n",
        "\n",
        "| **Dataset Size** | **Memory Usage (Offline PADIM)** | **Memory Usage (Online PADIM)** | **Execution Time (Offline PADIM)** | **Execution Time (Online PADIM)** |\n",
        "|-------------------|-----------------------------------------|----------------------------------------|---------------------------------------|--------------------------------------|\n",
        "| 20.0%             | ~2603.95 MiB                                | ~2035.72 MiB                              | ~5.1 seconds                                  | ~10.2 seconds                               |\n",
        "| 40.0%             | ~3723.75 MiB                            | ~2035.72 MiB                              | ~12.7 seconds                                 | ~25.7 seconds                               |\n",
        "| 60.0%             | ~5438.00 MiB                            | ~2035.72 MiB                              | ~25.7 seconds                                 | ~51.4 seconds                               |\n",
        "| 80.0%             | ~5426.14 MiB                            | ~2035.72 MiB                              | ~25.3 seconds                                 | ~49.9 seconds                               |\n",
        "| 100.0%            | ~5473.32 MiB                            | ~2035.72 MiB                              | ~25.7 seconds                                 | ~53.2 seconds                               |\n",
        "\n",
        "### Observations and Considerations:\n",
        "\n",
        "- **Memory Efficiency:**\n",
        "  - The online method consistently maintains a low and constant memory footprint, regardless of dataset size.\n",
        "  - Offline PADIM exhibits a substantial increase in memory usage with larger datasets.\n",
        "\n",
        "- **Time Efficiency:**\n",
        "  - Offline training time increases proportionally with dataset size.\n",
        "  - Online training, while slower (around 2 times) than offline, provides reasonable efficiency.\n",
        "\n",
        "- **Trade-offs:**\n",
        "  - Online training offers reduced memory consumption but at the cost of increased training time.\n",
        "  - Offline training is faster but requires significantly higher memory resources.\n",
        "\n",
        "- **Considerations:**\n",
        "   - The choice between online and offline methods should be based on specific use-case requirements.\n",
        "   - If memory efficiency is a critical concern, especially for larger datasets, the online method may be preferred.\n",
        "   - For scenarios where faster training is crucial, the offline method might be more suitable."
      ]
    }
  ],
  "metadata": {
    "kernelspec": {
      "display_name": "ml-teaching",
      "language": "python",
      "name": "python3"
    },
    "language_info": {
      "codemirror_mode": {
        "name": "ipython",
        "version": 3
      },
      "file_extension": ".py",
      "mimetype": "text/x-python",
      "name": "python",
      "nbconvert_exporter": "python",
      "pygments_lexer": "ipython3",
      "version": "3.10.11"
    },
    "colab": {
      "provenance": []
    }
  },
  "nbformat": 4,
  "nbformat_minor": 0
}